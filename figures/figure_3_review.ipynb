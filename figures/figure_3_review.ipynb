{
 "cells": [
  {
   "cell_type": "code",
   "execution_count": 1,
   "metadata": {},
   "outputs": [],
   "source": [
    "# Author : Arthur Prigent\n",
    "# Email : aprigent@geomar.de"
   ]
  },
  {
   "cell_type": "code",
   "execution_count": 2,
   "metadata": {},
   "outputs": [],
   "source": [
    "from load_librairies import *\n",
    "import xscale.signal.fitting as xsf\n",
    "import seaborn as sns\n",
    "from sklearn import linear_model\n",
    "\n",
    "def is_jja(month):\n",
    "    return (month >= 6) & (month <= 8)\n",
    "\n",
    "def is_amj(month):\n",
    "    return (month >= 4) & (month <= 6)\n",
    "\n",
    "def is_mjj(month):\n",
    "    return (month >= 5) & (month <= 7)\n",
    "\n",
    "######################\n",
    "#      TO CHANGE     # \n",
    "######################\n",
    "\n",
    "path_fig = '/Users/aprigent/Documents/Thesis_GEOMAR/Projects/weakened_sst_variability_CMIP5/figures/new_version/reviews/'\n",
    "path_data = '/Users/aprigent/Documents/Thesis_GEOMAR/Projects/weakened_sst_variability_CMIP5/scripts/new_version/to_publish/data/'"
   ]
  },
  {
   "cell_type": "markdown",
   "metadata": {},
   "source": [
    "# BF1"
   ]
  },
  {
   "cell_type": "code",
   "execution_count": 4,
   "metadata": {},
   "outputs": [],
   "source": [
    "## Files created in: \n",
    "# scripts_tmp/1st_bjerknes_feedback_CMIP5_MJJ.ipynb\n",
    "# scripts_tmp/1st_bjerknes_feedback_CMIP6_MJJ.ipynb\n",
    "\n",
    "bf1_hist_cmip6_jja = xr.open_dataset(path_data+'bf1_hist_mjj_CMIP6.nc')\n",
    "bf1_ssp5_cmip6_jja = xr.open_dataset(path_data+'bf1_ssp5_mjj_CMIP6.nc')\n",
    "\n",
    "bf1_hist_cmip5_jja = xr.open_dataset(path_data+'bf1_hist_mjj_CMIP5.nc')\n",
    "bf1_ssp5_cmip5_jja = xr.open_dataset(path_data+'bf1_ssp5_mjj_CMIP5.nc')\n"
   ]
  },
  {
   "cell_type": "markdown",
   "metadata": {},
   "source": [
    "# BF2"
   ]
  },
  {
   "cell_type": "code",
   "execution_count": 5,
   "metadata": {},
   "outputs": [],
   "source": [
    "## Files created in:\n",
    "# scripts_tmp/2nd_Bjkernes_feedback_thermocline_slope_CMIP5_z20.ipynb\n",
    "# scripts_tmp/2nd_Bjkernes_feedback_thermocline_slope_CMIP6_z20.ipynb\n",
    "\n",
    "bf2_hist_cmip6_jja = xr.open_dataset(path_data+'bf2_hist_jja_CMIP6_z20.nc')\n",
    "bf2_ssp5_cmip6_jja = xr.open_dataset(path_data+'bf2_ssp5_jja_CMIP6_z20.nc')\n",
    "\n",
    "bf2_hist_cmip5_jja = xr.open_dataset(path_data+'bf2_hist_jja_CMIP5_z20.nc')\n",
    "bf2_ssp5_cmip5_jja = xr.open_dataset(path_data+'bf2_ssp5_jja_CMIP5_z20.nc')\n",
    "\n"
   ]
  },
  {
   "cell_type": "markdown",
   "metadata": {},
   "source": [
    "# BF3"
   ]
  },
  {
   "cell_type": "code",
   "execution_count": 3,
   "metadata": {},
   "outputs": [],
   "source": [
    "## Files created in:\n",
    "# scripts_tmp/3rd_Bjerknes_feedback_CMIP5_z20.ipynb\n",
    "# scripts_tmp/3rd_Bjerknes_feedback_CMIP6_z20.ipynb\n",
    "\n",
    "bf3_hist_cmip6_jja = xr.open_dataset('/Volumes/Arthur_disk2/Data/CMIP6/tmp_data/bf3_hist_jja_CMIP6_z20.nc')\n",
    "bf3_ssp5_cmip6_jja = xr.open_dataset('/Volumes/Arthur_disk2/Data/CMIP6/tmp_data/bf3_ssp5_jja_CMIP6_z20.nc')\n",
    "\n",
    "\n",
    "bf3_hist_cmip5_jja = xr.open_dataset('/Volumes/Arthur_disk2/Data/CMIP6/tmp_data/bf3_hist_jja_CMIP5_z20.nc')\n",
    "bf3_ssp5_cmip5_jja = xr.open_dataset('/Volumes/Arthur_disk2/Data/CMIP6/tmp_data/bf3_ssp5_jja_CMIP5_z20.nc')\n",
    "\n",
    "\n"
   ]
  },
  {
   "cell_type": "markdown",
   "metadata": {},
   "source": [
    "# STD ssta / uasa"
   ]
  },
  {
   "cell_type": "code",
   "execution_count": 8,
   "metadata": {},
   "outputs": [],
   "source": [
    "#files created in:\n",
    "# scripts_tmp/create_file_std_ssta_uasa_CMIP5.ipynb\n",
    "# scripts_tmp/create_file_std_ssta_uasa_CMIP6.ipynb \n",
    "\n",
    "## UASa ##\n",
    "uasa_atl4_hist_cmip6 = xr.open_dataset(path_data+'uasa_hist_monthly_CMIP6.nc')\n",
    "uasa_atl4_ssp5_cmip6 = xr.open_dataset(path_data+'uasa_ssp5_monthly_CMIP6.nc')\n",
    "\n",
    "uasa_atl4_hist_cmip5 = xr.open_dataset(path_data+'uasa_hist_monthly_CMIP5.nc')\n",
    "uasa_atl4_ssp5_cmip5 = xr.open_dataset(path_data+'uasa_ssp5_monthly_CMIP5.nc')\n",
    "\n",
    "\n",
    "## SSTa ##\n",
    "ssta_atl3_hist_cmip5 = xr.open_dataset(path_data+'ssta_hist_monthly_CMIP5.nc')\n",
    "ssta_atl3_ssp5_cmip5 = xr.open_dataset(path_data+'ssta_ssp5_monthly_CMIP5.nc')\n",
    "\n",
    "ssta_atl3_hist_cmip6 = xr.open_dataset(path_data+'ssta_hist_monthly_CMIP6.nc')\n",
    "ssta_atl3_ssp5_cmip6 = xr.open_dataset(path_data+'ssta_ssp585_monthly_CMIP6.nc')"
   ]
  },
  {
   "cell_type": "code",
   "execution_count": 9,
   "metadata": {},
   "outputs": [],
   "source": [
    "## std SSTa in JJA ##\n",
    "\n",
    "std_ssta_hist_CMIP5_jja = ssta_atl3_hist_cmip5.ssta.sel(time=is_jja(\n",
    "    ssta_atl3_hist_cmip5['time.month'])).std(dim='time')\n",
    "\n",
    "std_ssta_ssp5_CMIP5_jja = ssta_atl3_ssp5_cmip5.ssta.sel(time=is_jja(\n",
    "    ssta_atl3_ssp5_cmip5['time.month'])).std(dim='time')\n",
    "\n",
    "std_ssta_hist_CMIP6_jja = ssta_atl3_hist_cmip6.ssta.sel(time=is_jja(\n",
    "    ssta_atl3_hist_cmip6['time.month'])).std(dim='time')\n",
    "\n",
    "std_ssta_ssp5_CMIP6_jja = ssta_atl3_ssp5_cmip6.ssta.sel(time=is_jja(\n",
    "    ssta_atl3_ssp5_cmip6['time.month'])).std(dim='time')\n",
    "\n",
    "## std UASa in MJJ ##\n",
    "\n",
    "\n",
    "std_uasa_hist_CMIP5_mjj = uasa_atl4_hist_cmip5.uasa.sel(time=is_mjj(\n",
    "    uasa_atl4_hist_cmip5['time.month'])).std(dim='time')\n",
    "\n",
    "std_uasa_ssp5_CMIP5_mjj = uasa_atl4_ssp5_cmip5.uasa.sel(time=is_mjj(\n",
    "    uasa_atl4_ssp5_cmip5['time.month'])).std(dim='time')\n",
    "\n",
    "\n",
    "std_uasa_hist_CMIP6_mjj = uasa_atl4_hist_cmip6.uasa.sel(time=is_mjj(\n",
    "    uasa_atl4_hist_cmip6['time.month'])).std(dim='time')\n",
    "\n",
    "std_uasa_ssp5_CMIP6_mjj = uasa_atl4_ssp5_cmip6.uasa.sel(time=is_mjj(\n",
    "    uasa_atl4_ssp5_cmip6['time.month'])).std(dim='time')\n"
   ]
  },
  {
   "cell_type": "markdown",
   "metadata": {},
   "source": [
    "# Make the ensemble means "
   ]
  },
  {
   "cell_type": "code",
   "execution_count": 10,
   "metadata": {},
   "outputs": [],
   "source": [
    "bf1_hist_cmip6_jja_mean = bf1_hist_cmip6_jja.mean(dim='product')\n",
    "bf1_ssp5_cmip6_jja_mean = bf1_ssp5_cmip6_jja.mean(dim='product')\n",
    "\n",
    "\n",
    "bf1_hist_cmip5_jja_mean = bf1_hist_cmip5_jja.mean(dim='product')\n",
    "bf1_ssp5_cmip5_jja_mean = bf1_ssp5_cmip5_jja.mean(dim='product')\n",
    "\n",
    "\n",
    "bf2_hist_cmip6_jja_mean = bf2_hist_cmip6_jja.mean(dim='product')\n",
    "bf2_ssp5_cmip6_jja_mean = bf2_ssp5_cmip6_jja.mean(dim='product')\n",
    "\n",
    "\n",
    "bf2_hist_cmip5_jja_mean = bf2_hist_cmip5_jja.mean(dim='product')\n",
    "bf2_ssp5_cmip5_jja_mean = bf2_ssp5_cmip5_jja.mean(dim='product')\n",
    "\n",
    "\n",
    "\n",
    "bf3_hist_cmip6_jja_mean = bf3_hist_cmip6_jja.mean(dim='product')\n",
    "bf3_ssp5_cmip6_jja_mean = bf3_ssp5_cmip6_jja.mean(dim='product')\n",
    "\n",
    "\n",
    "bf3_hist_cmip5_jja_mean = bf3_hist_cmip5_jja.mean(dim='product')\n",
    "bf3_ssp5_cmip5_jja_mean = bf3_ssp5_cmip5_jja.mean(dim='product')"
   ]
  },
  {
   "cell_type": "markdown",
   "metadata": {},
   "source": [
    "# Compute the changes between historical and scenario"
   ]
  },
  {
   "cell_type": "code",
   "execution_count": 11,
   "metadata": {},
   "outputs": [],
   "source": [
    "bf1_changes_cmip6 = bf1_ssp5_cmip6_jja.alpha - bf1_hist_cmip6_jja.alpha\n",
    "bf2_changes_cmip6 = bf2_ssp5_cmip6_jja.alpha - bf2_hist_cmip6_jja.alpha\n",
    "bf3_changes_cmip6 = bf3_ssp5_cmip6_jja.alpha - bf3_hist_cmip6_jja.alpha\n",
    "\n",
    "\n",
    "bf1_changes_cmip5 = bf1_ssp5_cmip5_jja.alpha - bf1_hist_cmip5_jja.alpha\n",
    "bf2_changes_cmip5 = bf2_ssp5_cmip5_jja.alpha - bf2_hist_cmip5_jja.alpha\n",
    "bf3_changes_cmip5 = bf3_ssp5_cmip5_jja.alpha - bf3_hist_cmip5_jja.alpha\n",
    "\n"
   ]
  },
  {
   "cell_type": "code",
   "execution_count": 12,
   "metadata": {},
   "outputs": [
    {
     "name": "stdout",
     "output_type": "stream",
     "text": [
      "(11,)\n",
      "(15,)\n"
     ]
    }
   ],
   "source": [
    "print(bf2_changes_cmip6[bf2_changes_cmip6<0].shape)\n",
    "print(bf2_changes_cmip5[bf2_changes_cmip5<0].shape)\n",
    "\n"
   ]
  },
  {
   "cell_type": "code",
   "execution_count": 13,
   "metadata": {},
   "outputs": [
    {
     "name": "stdout",
     "output_type": "stream",
     "text": [
      "(12,)\n",
      "(18,)\n"
     ]
    }
   ],
   "source": [
    "print(bf3_changes_cmip6[bf3_changes_cmip6<0].shape)\n",
    "print(bf3_changes_cmip5[bf3_changes_cmip5<0].shape)\n"
   ]
  },
  {
   "cell_type": "code",
   "execution_count": 14,
   "metadata": {},
   "outputs": [],
   "source": [
    "std_ssta_changes_cmip6 = std_ssta_ssp5_CMIP6_jja - std_ssta_hist_CMIP6_jja\n",
    "std_ssta_changes_cmip5 = std_ssta_ssp5_CMIP5_jja - std_ssta_hist_CMIP5_jja\n",
    "\n"
   ]
  },
  {
   "cell_type": "code",
   "execution_count": 15,
   "metadata": {},
   "outputs": [],
   "source": [
    "\n",
    "std_uasa_changes_cmip5_mjj = std_uasa_ssp5_CMIP5_mjj - std_uasa_hist_CMIP5_mjj\n",
    "std_uasa_changes_cmip6_mjj = std_uasa_ssp5_CMIP6_mjj - std_uasa_hist_CMIP6_mjj\n",
    "\n"
   ]
  },
  {
   "cell_type": "code",
   "execution_count": 16,
   "metadata": {},
   "outputs": [],
   "source": [
    "combined_bf1_CMIP5_CMIP6 = np.hstack((bf1_changes_cmip5.values,bf1_changes_cmip6.values))\n",
    "combined_bf2_CMIP5_CMIP6 = np.hstack((bf2_changes_cmip5.values,bf2_changes_cmip6.values))\n",
    "combined_bf3_CMIP5_CMIP6 = np.hstack((bf3_changes_cmip5.values,bf3_changes_cmip6.values))\n",
    "\n",
    "\n",
    "combined_ssta_CMIP5_CMIP6 = np.hstack((std_ssta_changes_cmip5.values,std_ssta_changes_cmip6.values))\n",
    "\n",
    "combined_uasa_CMIP5_CMIP6_mjj = np.hstack((std_uasa_changes_cmip5_mjj.values,\n",
    "                                           std_uasa_changes_cmip6_mjj.values))\n"
   ]
  },
  {
   "cell_type": "markdown",
   "metadata": {},
   "source": [
    "\n",
    "# Make regression SSTa changes vs BF changes"
   ]
  },
  {
   "cell_type": "code",
   "execution_count": 17,
   "metadata": {},
   "outputs": [],
   "source": [
    "## BF1 ##\n",
    "\n",
    "(alpha0_sign, interp0_sign, r0_sign, p_value0_sign, std0_sign) = stats.linregress(\n",
    "    combined_bf1_CMIP5_CMIP6*10,combined_ssta_CMIP5_CMIP6)\n",
    "\n",
    "## BF2 ##\n",
    "\n",
    "alpha1_sign, interp1_sign, r1_sign, p_value1_sign, std1_sign = stats.linregress(\n",
    "    combined_bf2_CMIP5_CMIP6,combined_ssta_CMIP5_CMIP6)\n",
    "\n",
    "\n",
    "\n",
    "## BF3 ##\n",
    "alpha2_sign, interp2_sign, r2_sign, p_value2_sign, std2_sign = stats.linregress(combined_bf3_CMIP5_CMIP6*100,\n",
    "                                                                                combined_ssta_CMIP5_CMIP6)\n"
   ]
  },
  {
   "cell_type": "markdown",
   "metadata": {},
   "source": [
    "# Make  confidence interval 95%"
   ]
  },
  {
   "cell_type": "code",
   "execution_count": 18,
   "metadata": {},
   "outputs": [],
   "source": [
    "x0 = np.arange(-16,17,1)\n",
    "\n",
    "y0 = alpha0_sign*x0 + interp0_sign\n",
    "\n",
    "\n",
    "n_replicate = 10000\n",
    "N = combined_bf1_CMIP5_CMIP6.shape[0]\n",
    "\n",
    "index = list(range(N))\n",
    "\n",
    "result = []\n",
    "#\n",
    "for i in range(n_replicate):\n",
    "    ind_resample = np.random.choice(index, N)\n",
    "    result.append(stats.linregress(combined_bf1_CMIP5_CMIP6[ind_resample]*10,\n",
    "                                   combined_ssta_CMIP5_CMIP6[ind_resample])[:2]\n",
    "    )\n",
    "#\n",
    "result = np.array(result)\n",
    "y_hat_distr = result[:, 0] * x0[:, np.newaxis] + result[:, 1]\n",
    "ci_forecast_bf1_ssta = np.percentile(y_hat_distr, (2.5, 97.5), axis=-1)"
   ]
  },
  {
   "cell_type": "code",
   "execution_count": 19,
   "metadata": {},
   "outputs": [],
   "source": [
    "x1 = np.arange(-6,7,1)\n",
    "\n",
    "y1 = alpha1_sign*x1 + interp1_sign\n",
    "\n",
    "n_replicate = 10000\n",
    "N = combined_bf2_CMIP5_CMIP6.shape[0]\n",
    "\n",
    "index = list(range(N))\n",
    "\n",
    "result = []\n",
    "#\n",
    "for i in range(n_replicate):\n",
    "    ind_resample = np.random.choice(index, N)\n",
    "    result.append(stats.linregress(combined_bf2_CMIP5_CMIP6[ind_resample],\n",
    "                                   combined_ssta_CMIP5_CMIP6[ind_resample])[:2]\n",
    "    )\n",
    "#\n",
    "result = np.array(result)\n",
    "y_hat_distr = result[:, 0] * x1[:, np.newaxis] + result[:, 1]\n",
    "ci_forecast_bf2_ssta = np.percentile(y_hat_distr, (2.5, 97.5), axis=-1)"
   ]
  },
  {
   "cell_type": "code",
   "execution_count": 20,
   "metadata": {},
   "outputs": [],
   "source": [
    "x2 = np.arange(-12,12,1)\n",
    "y2 = alpha2_sign*x2 + interp2_sign\n",
    "\n",
    "n_replicate = 10000\n",
    "N = combined_bf3_CMIP5_CMIP6.shape[0]\n",
    "\n",
    "index = list(range(N))\n",
    "\n",
    "result = []\n",
    "#\n",
    "for i in range(n_replicate):\n",
    "    ind_resample = np.random.choice(index, N)\n",
    "    result.append(stats.linregress(combined_bf3_CMIP5_CMIP6[ind_resample]*100,\n",
    "                                   combined_ssta_CMIP5_CMIP6[ind_resample])[:2]\n",
    "    )\n",
    "#\n",
    "result = np.array(result)\n",
    "y_hat_distr = result[:, 0] * x2[:, np.newaxis] + result[:, 1]\n",
    "ci_forecast_bf3_ssta = np.percentile(y_hat_distr, (2.5, 97.5), axis=-1)"
   ]
  },
  {
   "cell_type": "code",
   "execution_count": 21,
   "metadata": {},
   "outputs": [],
   "source": [
    "from scipy.stats import t\n",
    "tinv = lambda p, df: abs(t.ppf(p/2, df))\n",
    "ts0 = tinv(0.05, len(x0)-2)\n",
    "ts1 = tinv(0.05, len(x1)-2)\n",
    "ts2 = tinv(0.05, len(x2)-2)"
   ]
  },
  {
   "cell_type": "markdown",
   "metadata": {},
   "source": [
    "# Figure"
   ]
  },
  {
   "cell_type": "markdown",
   "metadata": {},
   "source": [
    "## New version for the reviews e,f only"
   ]
  },
  {
   "cell_type": "code",
   "execution_count": 22,
   "metadata": {},
   "outputs": [
    {
     "data": {
      "image/png": "[encoded data removed]",
      "text/plain": [
       "<Figure size 720x360 with 2 Axes>"
      ]
     },
     "metadata": {
      "needs_background": "light"
     },
     "output_type": "display_data"
    }
   ],
   "source": [
    "ftz = 15\n",
    "f,ax = plt.subplots(1,2,figsize=[10,5])\n",
    "ax=ax.ravel()\n",
    "color_cmip5 = 'black'\n",
    "color_cmip6 = 'blue'\n",
    "m_cmip6 = np.arange(0,bf1_hist_cmip6_jja.alpha.shape[0],1)\n",
    "m_cmip5 = np.arange(bf1_hist_cmip6_jja.alpha.shape[0],\n",
    "                    bf1_hist_cmip6_jja.alpha.shape[0] + bf1_hist_cmip5_jja.alpha.shape[0],1)\n",
    "\n",
    "### FIG c ###\n",
    "\n",
    "\n",
    "\n",
    "x = np.arange(-0.5,2,0.5)\n",
    "y = np.arange(-0.5,2,0.5)\n",
    "ax[0].plot(x,y,color = 'black',label='one-to-one')\n",
    "ax[0].scatter(bf3_hist_cmip6_jja_mean.alpha*10,\n",
    "           bf3_ssp5_cmip6_jja_mean.alpha*10,color=color_cmip6,s = 150,\n",
    "           label='Ens mean CMIP6',edgecolor='black')\n",
    "\n",
    "\n",
    "\n",
    "\n",
    "for i in range(bf3_hist_cmip6_jja.alpha.shape[0]):\n",
    "    if i <10:\n",
    "        ax[0].scatter(bf3_hist_cmip6_jja.alpha[i]*10,bf3_ssp5_cmip6_jja.alpha[i]*10,\n",
    "           label=bf3_hist_cmip6_jja.product[i].values,color=color_cmip6,marker=r\"$ {} $\".format(m_cmip6[i]),\n",
    "                          s=100)\n",
    "\n",
    "        \n",
    "    else:\n",
    "\n",
    "        ax[0].scatter(bf3_hist_cmip6_jja.alpha[i]*10,bf3_ssp5_cmip6_jja.alpha[i]*10,\n",
    "           label=bf3_hist_cmip6_jja.product[i].values,color=color_cmip6,marker=r\"$ {} $\".format(m_cmip6[i]),\n",
    "                          s=150)\n",
    "\n",
    "        \n",
    "        \n",
    "ax[0].scatter(bf3_hist_cmip5_jja_mean.alpha*10,\n",
    "           bf3_ssp5_cmip5_jja_mean.alpha*10,color=color_cmip5,s = 150,\n",
    "           label='Ens mean CMIP5',edgecolor='black')    \n",
    "\n",
    "for k in range(bf3_hist_cmip5_jja.alpha.shape[0]):\n",
    "\n",
    "    ax[0].scatter(bf3_hist_cmip5_jja.alpha[k]*10,bf3_ssp5_cmip5_jja.alpha[k]*10,\n",
    "           label=bf3_hist_cmip5_jja.product[k].values,\n",
    "                  color=color_cmip5,marker=r\"$ {} $\".format(m_cmip5[k]),s=150)\n",
    "\n",
    "ax[0].set_title('JJA BF3',fontsize=ftz)\n",
    "ax[0].set_xlabel('1950-1999 (1e$^{-1}$ K$\\cdot$m$^{-1}$)',fontsize=ftz)\n",
    "ax[0].set_ylabel('2050-2099 (1e$^{-1}$ K$\\cdot$m$^{-1}$)',fontsize=ftz)\n",
    "ax[0].tick_params(labelsize=ftz)\n",
    "ax[0].set_xlim([-0.25,1.5])\n",
    "ax[0].set_ylim([-0.25,1.5])\n",
    "ax[0].set_xticks(np.arange(-0.3,1.6,0.3))\n",
    "ax[0].set_yticks(np.arange(-0.3,1.6,0.3))\n",
    "ax[0].axvline(0.071*10,color='grey',linewidth=3)\n",
    "\n",
    "\n",
    "\n",
    "ax[0].errorbar(bf3_hist_cmip5_jja.alpha.mean(dim='product')*10,\n",
    "              bf3_ssp5_cmip5_jja.alpha.mean(dim='product')*10,\n",
    "             xerr=bf3_hist_cmip5_jja.alpha.std(dim='product')*10,\n",
    "             yerr=bf3_ssp5_cmip5_jja.alpha.std(dim='product')*10,color='black',fmt='o',capsize=5)\n",
    "\n",
    "\n",
    "ax[0].errorbar(bf3_hist_cmip6_jja.alpha.mean(dim='product')*10,\n",
    "              bf3_ssp5_cmip6_jja.alpha.mean(dim='product')*10,\n",
    "             xerr=bf3_hist_cmip6_jja.alpha.std(dim='product')*10,\n",
    "             yerr=bf3_ssp5_cmip6_jja.alpha.std(dim='product')*10,color='blue',fmt='o',capsize=5)\n",
    "\n",
    "\n",
    "\n",
    "m_cmip6 = np.arange(0,bf1_hist_cmip6_jja.alpha.shape[0],1)\n",
    "m_cmip5 = np.arange(bf1_hist_cmip6_jja.alpha.shape[0],\n",
    "                    bf1_hist_cmip6_jja.alpha.shape[0] + bf1_hist_cmip5_jja.alpha.shape[0],1)\n",
    "\n",
    "\n",
    "## FIG f ##\n",
    "ax[1].axhline(0,color='black')\n",
    "ax[1].axvline(0,color='black')\n",
    "x2 = np.arange(-12,12,1)\n",
    "y2 = alpha2_sign*x2+ interp2_sign\n",
    "ax[1].plot(x2,y2,'red')\n",
    "\n",
    "\n",
    "y2_sign = alpha2_sign*x2+ interp2_sign\n",
    "ax[1].plot(x2,y2_sign,'grey',alpha=1)\n",
    "ax[1].plot(x2,y2_sign,color='grey',linewidth=3)\n",
    "ax[1].plot(x2, ci_forecast_bf3_ssta[0], 'grey')\n",
    "ax[1].plot(x2, ci_forecast_bf3_ssta[1], 'grey')\n",
    "ax[1].fill_between(x2,y2_sign,ci_forecast_bf3_ssta[0],color='grey',alpha=0.25)\n",
    "ax[1].fill_between(x2,y2_sign,ci_forecast_bf3_ssta[1],color='grey',alpha=0.25)\n",
    "\n",
    "for i in range(bf3_changes_cmip6.product.shape[0]):\n",
    "    if i <10:\n",
    "\n",
    "        ax[1].scatter(bf3_changes_cmip6[i]*100,std_ssta_changes_cmip6[i],\n",
    "                  color = color_cmip6,marker=r\"$ {} $\".format(m_cmip6[i]),s=100)\n",
    "\n",
    "    else:\n",
    "\n",
    "        ax[1].scatter(bf3_changes_cmip6[i]*100,std_ssta_changes_cmip6[i],\n",
    "                  color = color_cmip6,marker=r\"$ {} $\".format(m_cmip6[i]),s=150)\n",
    "\n",
    "    \n",
    "for k in range(bf3_changes_cmip5.product.shape[0]):\n",
    "\n",
    "    ax[1].scatter(bf3_changes_cmip5[k]*100,std_ssta_changes_cmip5[k],\n",
    "                  color = color_cmip5,marker=r\"$ {} $\".format(m_cmip5[k]),s=150)\n",
    "\n",
    "    \n",
    "ax[1].set_ylabel('JJA ATL3 std SSTa change (K)',fontsize=ftz)    \n",
    "ax[1].tick_params(labelsize=ftz)\n",
    "ax[1].set_xlabel('JJA BF3 change (1e$^{-2}$ K$\\cdot$m$^{-1}$)',fontsize=ftz)\n",
    "ax[1].set_xlim([-11,11])\n",
    "ax[1].set_ylim([-0.3,0.3])\n",
    "ax[1].set_yticks(np.arange(-0.3,0.4,0.1))\n",
    "if p_value2_sign<0.05:\n",
    "    textstr = '\\n'.join((r'$s=%.2f$ $\\pm$ %.3f K$\\cdot$(1e$^{-2}$ K$\\cdot$m$^{-1}$)$^{-1}$' %\n",
    "                     (alpha2_sign, std2_sign*ts2),\n",
    "                     r'$R^{2}=%.2f$' % (r2_sign**2, ),\n",
    "                    'p-value < 0.05'))\n",
    "else:\n",
    "    textstr = '\\n'.join((r'$s=%.2f$ $\\pm$ %.3f m' %\n",
    "                     (alpha2_sign, std2_sign*ts2),\n",
    "                     r'$R^{2}=%.2f$' % (r2_sign**2, ),\n",
    "                    'p-value > 0.05'))\n",
    "props = dict(boxstyle='round', facecolor='white', ec='grey', lw=2)\n",
    "\n",
    "# place a text box in upper left in axes coords\n",
    "ax[1].text(0.03,\n",
    "         0.97,\n",
    "         textstr,\n",
    "         transform=ax[1].transAxes,\n",
    "         fontsize=ftz-5,\n",
    "         verticalalignment='top',\n",
    "         bbox=props)\n",
    "\n",
    "\n",
    "ax[0].tick_params(labelbottom=True, labeltop=False, labelleft=True, labelright=False,\n",
    "                     bottom=True, top=True, left=True, right=True,length=10,direction='in')\n",
    "\n",
    "ax[1].tick_params(labelbottom=True, labeltop=False, labelleft=True, labelright=False,\n",
    "                     bottom=True, top=True, left=True, right=True,length=10,direction='in')\n",
    "\n",
    "\n",
    "plt.subplots_adjust( hspace=0,\n",
    "                    wspace=0.3)\n",
    "ax[0].text(0,\n",
    "         1.04, 'a)',transform=ax[0].transAxes,size=ftz)\n",
    "ax[1].text(0,\n",
    "         1.04, 'b)',transform=ax[1].transAxes,size=ftz)\n",
    "\n",
    "plt.savefig(path_fig + 'figure_03_review_BF3.png',\n",
    "             dpi = 300,\n",
    "            bbox_inches='tight')"
   ]
  },
  {
   "cell_type": "code",
   "execution_count": null,
   "metadata": {},
   "outputs": [],
   "source": []
  }
 ],
 "metadata": {
  "kernelspec": {
   "display_name": "Python 3 (ipykernel)",
   "language": "python",
   "name": "python3"
  },
  "language_info": {
   "codemirror_mode": {
    "name": "ipython",
    "version": 3
   },
   "file_extension": ".py",
   "mimetype": "text/x-python",
   "name": "python",
   "nbconvert_exporter": "python",
   "pygments_lexer": "ipython3",
   "version": "3.7.10"
  }
 },
 "nbformat": 4,
 "nbformat_minor": 4
}
