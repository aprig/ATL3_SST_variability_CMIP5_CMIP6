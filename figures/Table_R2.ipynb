{
 "cells": [
  {
   "cell_type": "code",
   "execution_count": 1,
   "metadata": {},
   "outputs": [],
   "source": [
    "# Author : Arthur Prigent\n",
    "# Email: aprigent@geomar.de"
   ]
  },
  {
   "cell_type": "code",
   "execution_count": 3,
   "metadata": {},
   "outputs": [],
   "source": [
    "from load_librairies import *\n",
    "import xscale.signal.fitting as xsf\n",
    "from mpl_toolkits.axes_grid1.inset_locator import inset_axes\n",
    "import seaborn as sns\n",
    "\n",
    "import warnings\n",
    "warnings.filterwarnings('ignore')\n",
    "\n",
    "period_str_1 = 1982\n",
    "period_end_1 = 2017\n",
    "\n",
    "\n",
    "\n",
    "def is_jja(month):\n",
    "    return (month >= 6) & (month <= 8)\n",
    "def is_mjj(month):\n",
    "    return (month >= 5) & (month <= 7)\n",
    "#def is_amj(month):\n",
    "#    return (month >= 4) & (month <= 6)\n",
    "\n",
    "def relative_std(a, b):\n",
    "    return (a - b) / a\n",
    "\n",
    "def f_test(x, y):\n",
    "    x = np.array(x)\n",
    "    y = np.array(y)\n",
    "    f = np.var(x, ddof=1)/np.var(y, ddof=1) #calculate F test statistic \n",
    "    dfn = x.size-1 #define degrees of freedom numerator \n",
    "    dfd = y.size-1 #define degrees of freedom denominator \n",
    "    p = 1-stats.f.cdf(f, dfn, dfd) #find p-value of F test statistic \n",
    "    return f, p\n",
    "\n",
    "def month_range_day(start=None, periods=None):\n",
    "    start_date = pd.Timestamp(start).date()\n",
    "    month_range = pd.date_range(start=start_date, periods=periods, freq='M')\n",
    "    month_day = month_range.day.values\n",
    "    month_day[start_date.day < month_day] = start_date.day\n",
    "    return pd.to_datetime(month_range.year*10000+month_range.month*100+month_day, format='%Y%m%d')\n",
    "######################\n",
    "#      TO CHANGE     # \n",
    "######################\n",
    "\n",
    "path_fig = '/Users/aprigent/Documents/Thesis_GEOMAR/Projects/weakened_sst_variability_CMIP5/figures/new_version/reviews/'\n",
    "path_data = '/Users/aprigent/Documents/Thesis_GEOMAR/Projects/weakened_sst_variability_CMIP5/scripts/new_version/to_publish/data/'"
   ]
  },
  {
   "cell_type": "markdown",
   "metadata": {},
   "source": [
    "# Load BF3 CMIP5, CMIP6"
   ]
  },
  {
   "cell_type": "code",
   "execution_count": 4,
   "metadata": {},
   "outputs": [],
   "source": [
    "## /Documents/Thesis_GEOMAR/Projects/weakened_sst_variability_CMIP5/scripts/new_version/to_publish/\n",
    "## scripts_tmp/3rd_Bjerknes_feedback_CMIP5_z20_historical.ipynb\n",
    "bf3_hist_jja_1 = xr.open_dataset(path_data+'bf3_hist_jja_CMIP6_z20_19821999.nc')\n",
    "bf3_hist_jja_2 = xr.open_dataset(path_data+'bf3_hist_jja_CMIP6_z20_20002014.nc')\n",
    "\n",
    "\n",
    "## /Documents/Thesis_GEOMAR/Projects/weakened_sst_variability_CMIP5/scripts/new_version/\n",
    "## to_publish/scripts_tmp/3rd_Bjerknes_feedback_CMIP6_z20_historical.ipynb\n",
    "bf3_hist_jja_1_cmip5 =xr.open_dataset(path_data+'bf3_hist_jja_CMIP5_z20_19821999.nc')\n",
    "\n",
    "\n",
    "## /Documents/Thesis_GEOMAR/Projects/weakened_sst_variability_CMIP5/scripts/new_version/\n",
    "## to_publish/scripts_tmp/3rd_Bjerknes_feedback_CMIP6_z20.ipynb\n",
    "bf3_hist_cmip6_jja_19501999 = xr.open_dataset(path_data+'bf3_hist_jja_CMIP6_z20.nc')\n",
    "bf3_ssp5_cmip6_jja_20502099 = xr.open_dataset(path_data+'bf3_ssp5_jja_CMIP6_z20.nc')\n",
    "\n",
    "\n",
    "## /Documents/Thesis_GEOMAR/Projects/weakened_sst_variability_CMIP5/scripts/new_version/to_publish/\n",
    "## scripts_tmp/3rd_Bjerknes_feedback_CMIP5_z20.ipynb\n",
    "bf3_hist_cmip5_jja_19501999 = xr.open_dataset(path_data+'bf3_hist_jja_CMIP5_z20.nc')\n",
    "bf3_ssp5_cmip5_jja_20502099 = xr.open_dataset(path_data+'bf3_ssp5_jja_CMIP5_z20.nc')\n",
    "\n",
    "\n",
    "\n"
   ]
  },
  {
   "cell_type": "code",
   "execution_count": 5,
   "metadata": {},
   "outputs": [
    {
     "name": "stdout",
     "output_type": "stream",
     "text": [
      "ENS BF3 CMIP6 1950-1999 = 0.057 +/- 0.034\n",
      "ENS BF3 CMIP6 1982-1999 = 0.055 +/- 0.035\n",
      "ENS BF3 CMIP6 2000-2014 = 0.053 +/- 0.038\n",
      "ENS BF3 CMIP6 2050-2099 = 0.039 +/- 0.027\n"
     ]
    }
   ],
   "source": [
    "print('ENS BF3 CMIP6 1950-1999 =', np.round(bf3_hist_cmip6_jja_19501999.alpha.mean(dim='product').values,3),'+/-',\n",
    "     np.round(bf3_hist_cmip6_jja_19501999.alpha.std(dim='product').values,3))\n",
    "\n",
    "print('ENS BF3 CMIP6 1982-1999 =', np.round(bf3_hist_jja_1.alpha.mean(dim='product').values,3),'+/-',\n",
    "     np.round(bf3_hist_jja_1.alpha.std(dim='product').values,3))\n",
    "\n",
    "print('ENS BF3 CMIP6 2000-2014 =', np.round(bf3_hist_jja_2.alpha.mean(dim='product').values,3),'+/-',\n",
    "     np.round(bf3_hist_jja_2.alpha.std(dim='product').values,3))\n",
    "\n",
    "print('ENS BF3 CMIP6 2050-2099 =', np.round(bf3_ssp5_cmip6_jja_20502099.alpha.mean(dim='product').values,3),'+/-',\n",
    "     np.round(bf3_ssp5_cmip6_jja_20502099.alpha.std(dim='product').values,3))"
   ]
  },
  {
   "cell_type": "code",
   "execution_count": 6,
   "metadata": {},
   "outputs": [
    {
     "name": "stdout",
     "output_type": "stream",
     "text": [
      "ENS BF3 CMIP5 1950-1999 = 0.051 +/- 0.029\n",
      "ENS BF3 CMIP5 1982-1999 = 0.052 +/- 0.033\n",
      "ENS BF3 CMIP5 2050-2099 = 0.04 +/- 0.022\n"
     ]
    }
   ],
   "source": [
    "print('ENS BF3 CMIP5 1950-1999 =', np.round(bf3_hist_cmip5_jja_19501999.alpha.mean(dim='product').values,3),'+/-',\n",
    "     np.round(bf3_hist_cmip5_jja_19501999.alpha.std(dim='product').values,3))\n",
    "print('ENS BF3 CMIP5 1982-1999 =', np.round(bf3_hist_jja_1_cmip5.alpha.mean(dim='product').values,3),'+/-',\n",
    "     np.round(bf3_hist_jja_1_cmip5.alpha.std(dim='product').values,3))\n",
    "print('ENS BF3 CMIP5 2050-2099 =', np.round(bf3_ssp5_cmip5_jja_20502099.alpha.mean(dim='product').values,3),'+/-',\n",
    "     np.round(bf3_ssp5_cmip5_jja_20502099.alpha.std(dim='product').values,3))"
   ]
  },
  {
   "cell_type": "code",
   "execution_count": null,
   "metadata": {},
   "outputs": [],
   "source": []
  }
 ],
 "metadata": {
  "kernelspec": {
   "display_name": "Python 3 (ipykernel)",
   "language": "python",
   "name": "python3"
  },
  "language_info": {
   "codemirror_mode": {
    "name": "ipython",
    "version": 3
   },
   "file_extension": ".py",
   "mimetype": "text/x-python",
   "name": "python",
   "nbconvert_exporter": "python",
   "pygments_lexer": "ipython3",
   "version": "3.7.10"
  }
 },
 "nbformat": 4,
 "nbformat_minor": 4
}
