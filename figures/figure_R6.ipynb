{
 "cells": [
  {
   "cell_type": "code",
   "execution_count": 1,
   "id": "096ba3e0",
   "metadata": {},
   "outputs": [],
   "source": [
    "# Author: Arthur Prigent\n",
    "# Email: aprigent@geomar.de\n",
    "\n",
    "from load_librairies import *\n",
    "import xscale.signal.fitting as xsf\n",
    "import seaborn as sns\n",
    "from sklearn import linear_model\n",
    "\n",
    "def is_jja(month):\n",
    "    return (month >= 6) & (month <= 8)\n",
    "\n",
    "def is_amj(month):\n",
    "    return (month >= 4) & (month <= 6)\n",
    "\n",
    "def is_mjj(month):\n",
    "    return (month >= 5) & (month <= 7)\n",
    "\n",
    "\n",
    "def nandetrend(y):\n",
    "    ''' Remove the linear trend from the data '''\n",
    "    x = np.arange(0,y.shape[0],1)\n",
    "    \n",
    "    not_nan_ind = ~np.isnan(y)\n",
    "    m, b, r_val, p_val, std_err = stats.linregress(x[not_nan_ind],np.array(y)[not_nan_ind])\n",
    "    \n",
    "    \n",
    "    y_detrended= np.array(y) - m*x\n",
    "    \n",
    "    return y_detrended\n",
    "\n",
    "\n",
    "\n",
    "def nandetrend2(y):\n",
    "    ''' Remove the linear trend from the data '''\n",
    "    x = np.arange(0,y.shape[0],1)\n",
    "    \n",
    "    not_nan_ind = ~np.isnan(y)\n",
    "    m, b, r_val, p_val, std_err = stats.linregress(x[not_nan_ind],np.array(y)[not_nan_ind])\n",
    "    \n",
    "    \n",
    "    y_detrended_tmp= np.array(y) - m*x\n",
    "    \n",
    "    y_detrended  = xr.Dataset({'detrended': (['time'],y_detrended_tmp)}\n",
    "                       ,coords={'time':y.time[:]})\n",
    "    return y_detrended\n",
    "\n",
    "######################\n",
    "#      TO CHANGE     # \n",
    "######################\n",
    "\n",
    "path_fig = '/Users/aprigent/Documents/Thesis_GEOMAR/Projects/weakened_sst_variability_CMIP5/figures/new_version/reviews/'\n",
    "path_data = '/Users/aprigent/Documents/Thesis_GEOMAR/Projects/weakened_sst_variability_CMIP5/scripts/new_version/to_publish/data/'"
   ]
  },
  {
   "cell_type": "markdown",
   "id": "bd1959da",
   "metadata": {},
   "source": [
    "## SST variability changes in JJA"
   ]
  },
  {
   "cell_type": "code",
   "execution_count": 2,
   "id": "0a296d04",
   "metadata": {},
   "outputs": [],
   "source": [
    "\n",
    "## SSTa ##\n",
    "ssta_atl3_hist_cmip5 = xr.open_dataset(path_data+'ssta_hist_monthly_CMIP5.nc')\n",
    "ssta_atl3_ssp5_cmip5 = xr.open_dataset(path_data+'ssta_ssp5_monthly_CMIP5.nc')\n",
    "\n",
    "ssta_atl3_hist_cmip6 = xr.open_dataset(path_data+'ssta_hist_monthly_CMIP6.nc')\n",
    "ssta_atl3_ssp5_cmip6 = xr.open_dataset(path_data+'ssta_ssp585_monthly_CMIP6.nc')\n",
    "\n"
   ]
  },
  {
   "cell_type": "code",
   "execution_count": 3,
   "id": "74082c0a",
   "metadata": {},
   "outputs": [],
   "source": [
    "## std SSTa in JJA ##\n",
    "\n",
    "std_ssta_hist_CMIP5_jja = ssta_atl3_hist_cmip5.ssta.sel(time=is_jja(\n",
    "    ssta_atl3_hist_cmip5['time.month'])).std(dim='time')\n",
    "\n",
    "std_ssta_ssp5_CMIP5_jja = ssta_atl3_ssp5_cmip5.ssta.sel(time=is_jja(\n",
    "    ssta_atl3_ssp5_cmip5['time.month'])).std(dim='time')\n",
    "\n",
    "std_ssta_hist_CMIP6_jja = ssta_atl3_hist_cmip6.ssta.sel(time=is_jja(\n",
    "    ssta_atl3_hist_cmip6['time.month'])).std(dim='time')\n",
    "\n",
    "std_ssta_ssp5_CMIP6_jja = ssta_atl3_ssp5_cmip6.ssta.sel(time=is_jja(\n",
    "    ssta_atl3_ssp5_cmip6['time.month'])).std(dim='time')\n",
    "\n",
    "std_ssta_changes_cmip6 = std_ssta_ssp5_CMIP6_jja - std_ssta_hist_CMIP6_jja\n",
    "std_ssta_changes_cmip5 = std_ssta_ssp5_CMIP5_jja - std_ssta_hist_CMIP5_jja\n",
    "\n"
   ]
  },
  {
   "cell_type": "markdown",
   "id": "b334bedb",
   "metadata": {},
   "source": [
    "##  ORA-S4 Z20 JJA in the ATL3"
   ]
  },
  {
   "cell_type": "code",
   "execution_count": 4,
   "id": "b500b5a6",
   "metadata": {},
   "outputs": [],
   "source": [
    "dir_data = '/Users/aprigent/Documents/Thesis_GEOMAR/Data/'\n",
    "data     = dir_data + 'ORA-S4/'\n",
    "\n",
    "\n",
    "file_sst = 'global_SST_ORA_S4_1958_2017_montlhy.nc'\n",
    "nc = xr.open_mfdataset(data+file_sst)\n",
    "lon_oras = np.arange(-60,20,1)\n",
    "lat_oras = np.arange(-30,30,1)\n",
    "time_oras = nc.TIME\n",
    "#sst_oras = nc.THETAO\n",
    "\n",
    "\n",
    "\n",
    "dir_data = '/Users/aprigent/Documents/Thesis_GEOMAR/Data/'\n",
    "data = dir_data + 'ORA-S4/'\n",
    "file = 'z20_depth_ORAS4_jan1958_dec_2017.nc'\n",
    "#nc   = Dataset(data+file)\n",
    "nc        = xr.open_mfdataset(data+file)\n",
    "z20_tmp = nc.Z20\n",
    "\n",
    "#print(nc.variables.keys())\n",
    "## z23 data from jan 1958 to dec 2017.\n",
    "#z20_tmp = nc.variables['Z20'][:696,:,:] # taking the data from  jan 1958 to dec 2015 because of the wind data\n",
    "#nc.close()\n",
    "z20tmp_2=np.ones((np.shape(z20_tmp)))*np.nan\n",
    "#\n",
    "\n",
    "\n",
    "for i in range(z20tmp_2.shape[1]):\n",
    "    for j in range(z20tmp_2.shape[2]):\n",
    "        if np.isfinite(z20_tmp[:,i,j]).all()==True:\n",
    "            z20tmp_2[:,i,j] = nandetrend(z20_tmp[:,i,j])\n",
    "\n",
    "X,Y = np.meshgrid(lon_oras,lat_oras) \n",
    "#\n",
    "#\n",
    "z20  = xr.Dataset({'z20': (['time','y','x'],z20tmp_2)}\n",
    "                   ,coords={'time':np.array(time_oras),'lat':(['y','x'],np.array(Y)),'lon':(['y','x'],np.array(X))})\n",
    "\n",
    "\n"
   ]
  },
  {
   "cell_type": "markdown",
   "id": "738aaf40",
   "metadata": {},
   "source": [
    "## Take the period 1982-2017"
   ]
  },
  {
   "cell_type": "code",
   "execution_count": 5,
   "id": "a464ab5f",
   "metadata": {},
   "outputs": [],
   "source": [
    "period_1_str = 1982\n",
    "period_1_end = 2017\n",
    "\n",
    "## ATL3 ##\n",
    "\n",
    "z20_atl3 = Atools.data_sub(z20,-20,0,-3,3).mean(dim='x').mean(dim='y')\n",
    "z20_atl3 = z20_atl3.sel(time=slice(datetime(period_1_str, 1, 1),datetime(period_1_end, 12, 31)))\n",
    "z20_atl3_mean_ORAS4 = z20_atl3.z20.mean(dim='time')\n",
    "z20_atl3_jja_ORAS4 = z20_atl3.z20.sel(time=is_jja(z20_atl3['time.month'])).mean(dim='time')\n"
   ]
  },
  {
   "cell_type": "code",
   "execution_count": 6,
   "id": "d7eda2c9",
   "metadata": {},
   "outputs": [],
   "source": [
    "## ATL4 ##\n",
    "z20_atl4 = Atools.data_sub(z20,-40,-20,-3,3).mean(dim='x').mean(dim='y')\n",
    "z20_atl4 = z20_atl4.sel(time=slice(datetime(period_1_str, 1, 1),datetime(period_1_end, 12, 31)))\n",
    "z20_atl4_mean_ORAS4 = z20_atl4.z20.mean(dim='time')\n",
    "z20_atl4_jja_ORAS4 = z20_atl4.z20.sel(time=is_jja(z20_atl4['time.month'])).mean(dim='time')"
   ]
  },
  {
   "cell_type": "code",
   "execution_count": 7,
   "id": "9741a94f",
   "metadata": {},
   "outputs": [],
   "source": [
    "slope_ORAS4_jja = z20_atl3_jja_ORAS4 - z20_atl4_jja_ORAS4"
   ]
  },
  {
   "cell_type": "code",
   "execution_count": 8,
   "id": "65ffb7c3",
   "metadata": {},
   "outputs": [
    {
     "name": "stdout",
     "output_type": "stream",
     "text": [
      "mean JJA Z20 ATL3 ORAS4 =  54.18\n",
      "mean JJA Z20 ATL4 ORAS4 =  92.47\n",
      "mean JJA Z20 slope ORAS4 =  -38.28\n"
     ]
    }
   ],
   "source": [
    "\n",
    "print('mean JJA Z20 ATL3 ORAS4 = ',np.round(z20_atl3_jja_ORAS4.values,2))\n",
    "print('mean JJA Z20 ATL4 ORAS4 = ',np.round(z20_atl4_jja_ORAS4.values,2))\n",
    "print('mean JJA Z20 slope ORAS4 = ',np.round(slope_ORAS4_jja.values,2))\n"
   ]
  },
  {
   "cell_type": "markdown",
   "id": "0282f146",
   "metadata": {},
   "source": [
    "# Load CMIP data"
   ]
  },
  {
   "cell_type": "code",
   "execution_count": 13,
   "id": "034e3ec9",
   "metadata": {},
   "outputs": [],
   "source": [
    "## Z20 atl3 ##\n",
    "z20_cmip5_jja = xr.open_dataset(path_data+'Z20_depth_atl3_CMIP5_jja_dtd.nc')\n",
    "z20_cmip6_jja = xr.open_dataset(path_data+'Z20_depth_atl3_CMIP6_jja_dtd.nc')"
   ]
  },
  {
   "cell_type": "code",
   "execution_count": 14,
   "id": "0de30af7",
   "metadata": {},
   "outputs": [],
   "source": [
    "z20_cmip5_jja_change = z20_cmip5_jja.period_2 - z20_cmip5_jja.period_1\n",
    "z20_cmip6_jja_change = z20_cmip6_jja.period_2 - z20_cmip6_jja.period_1"
   ]
  },
  {
   "cell_type": "code",
   "execution_count": 15,
   "id": "512d4f93",
   "metadata": {},
   "outputs": [],
   "source": [
    "## ATL3 JJA SST bias ##\n",
    "bias_jja_cmip5 = xr.open_dataset(path_data+'sst_bias_atl3_CMIP5_jja_dtd_new.nc')\n",
    "bias_jja_cmip6 = xr.open_dataset(path_data+'sst_bias_atl3_CMIP6_jja_dtd_new.nc')"
   ]
  },
  {
   "cell_type": "markdown",
   "id": "4bdc30da",
   "metadata": {},
   "source": [
    "# Make regressions"
   ]
  },
  {
   "cell_type": "code",
   "execution_count": 37,
   "id": "7c90de21",
   "metadata": {},
   "outputs": [],
   "source": [
    "## CMIP5 first and then CMIP6 ## \n",
    "\n",
    "combined_z20_change_CMIP5_CMIP6 = np.hstack((z20_cmip5_jja_change.values,z20_cmip6_jja_change.values))\n",
    "\n",
    "combined_sst_bias_CMIP5_CMIP6 = np.hstack((bias_jja_cmip5.bias.values,bias_jja_cmip6.bias.values))"
   ]
  },
  {
   "cell_type": "markdown",
   "id": "e8b896fb",
   "metadata": {},
   "source": [
    "## All models"
   ]
  },
  {
   "cell_type": "code",
   "execution_count": 38,
   "id": "d1bdb00d",
   "metadata": {},
   "outputs": [],
   "source": [
    "alpha6, interp6, r6, p_value6, std6 = stats.linregress(combined_sst_bias_CMIP5_CMIP6,\n",
    "                                                       combined_z20_change_CMIP5_CMIP6)\n"
   ]
  },
  {
   "cell_type": "code",
   "execution_count": 39,
   "id": "8e48849c",
   "metadata": {},
   "outputs": [
    {
     "data": {
      "text/plain": [
       "-1.034579433098661"
      ]
     },
     "execution_count": 39,
     "metadata": {},
     "output_type": "execute_result"
    }
   ],
   "source": [
    "alpha6"
   ]
  },
  {
   "cell_type": "code",
   "execution_count": 40,
   "id": "5da25441",
   "metadata": {},
   "outputs": [],
   "source": [
    "x6 = np.arange(-2,5.2,0.2)\n",
    "y6 = x6*alpha6+interp6\n",
    "\n",
    "\n"
   ]
  },
  {
   "cell_type": "markdown",
   "id": "a6a5be43",
   "metadata": {},
   "source": [
    "# 95% confidence interval"
   ]
  },
  {
   "cell_type": "code",
   "execution_count": 41,
   "id": "b6503bcc",
   "metadata": {},
   "outputs": [],
   "source": [
    "\n",
    "n_replicate = 10000\n",
    "N = combined_z20_change_CMIP5_CMIP6.shape[0]\n",
    "\n",
    "index = list(range(N))\n",
    "\n",
    "result = []\n",
    "#\n",
    "for i in range(n_replicate):\n",
    "    ind_resample = np.random.choice(index, N)\n",
    "    result.append(stats.linregress(combined_sst_bias_CMIP5_CMIP6[ind_resample],\n",
    "                                                       combined_z20_change_CMIP5_CMIP6[ind_resample])[:2]\n",
    "    )\n",
    "#\n",
    "result = np.array(result)\n",
    "y_hat_distr = result[:, 0] * x6[:, np.newaxis] + result[:, 1]\n",
    "ci_forecast_sst_bias = np.percentile(y_hat_distr, (2.5, 97.5), axis=-1)"
   ]
  },
  {
   "cell_type": "code",
   "execution_count": 42,
   "id": "130011f7",
   "metadata": {},
   "outputs": [],
   "source": [
    "from scipy.stats import t\n",
    "tinv = lambda p, df: abs(t.ppf(p/2, df))\n",
    "\n",
    "ts6 = tinv(0.05, len(x6)-2)\n"
   ]
  },
  {
   "cell_type": "markdown",
   "id": "22811a13",
   "metadata": {},
   "source": [
    "# Figure R5"
   ]
  },
  {
   "cell_type": "code",
   "execution_count": 47,
   "id": "830c7403",
   "metadata": {},
   "outputs": [
    {
     "data": {
      "text/plain": [
       "Text(0.6, 0.97, '$s=-1.03$ $\\\\pm$ 2.493 K$\\\\cdot$m$^{-1}$\\n$R^{2}=0.02$\\np-value > 0.05')"
      ]
     },
     "execution_count": 47,
     "metadata": {},
     "output_type": "execute_result"
    },
    {
     "data": {
      "image/png": "[encoded data removed]",
      "text/plain": [
       "<Figure size 360x360 with 1 Axes>"
      ]
     },
     "metadata": {
      "needs_background": "light"
     },
     "output_type": "display_data"
    }
   ],
   "source": [
    "f,ax = plt.subplots(1,1,figsize=[5,5])\n",
    "\n",
    "color_cmip5 = 'black'\n",
    "color_cmip6 = 'blue'\n",
    "ftz=15\n",
    "m_cmip6 = np.arange(0,bias_jja_cmip6.bias.shape[0],1)\n",
    "m_cmip5 = np.arange(bias_jja_cmip6.bias.shape[0],\n",
    "                    bias_jja_cmip6.bias.shape[0] + bias_jja_cmip5.bias.shape[0],1)\n",
    "\n",
    "\n",
    "plt.subplots_adjust(top=1, bottom=0, left=0, right=1, hspace=0,\n",
    "                    wspace=0.25)\n",
    "\n",
    "\n",
    "ax.plot(x6,y6,color='grey')\n",
    "ax.axhline(0,color='black')\n",
    "ax.axvline(0,color='black')\n",
    "\n",
    "\n",
    "for k in range(bias_jja_cmip6.bias.shape[0]):\n",
    "    if k<10:\n",
    "        ax.scatter(bias_jja_cmip6.bias[k],z20_cmip6_jja_change[k],color=color_cmip6,\n",
    "                              marker=r\"$ {} $\".format(\n",
    "                    m_cmip6[k]),s=100)\n",
    "    else:\n",
    "        ax.scatter(bias_jja_cmip6.bias[k],z20_cmip6_jja_change[k],color=color_cmip6,\n",
    "                              marker=r\"$ {} $\".format(\n",
    "                    m_cmip6[k]),s=150)\n",
    "\n",
    "for i in range(bias_jja_cmip5.bias.shape[0]):\n",
    "    ax.scatter(bias_jja_cmip5.bias[i],z20_cmip5_jja_change[i],color=color_cmip5,\n",
    "                          marker=r\"$ {} $\".format(\n",
    "                m_cmip5[i]),s=150)\n",
    "    \n",
    "ax.set_xlabel('ATL3 JJA SST bias [K]',fontsize=ftz)\n",
    "ax.set_ylabel('ATL3 JJA Z20 change [m]',fontsize=ftz)\n",
    "ax.tick_params(labelsize=ftz)\n",
    "ax.axvline(np.round(slope_ORAS4_jja.values,2),color='grey',linewidth=3)\n",
    "ax.set_xlim([-2,5])\n",
    "\n",
    "ax.plot(x6, ci_forecast_sst_bias[0], 'grey')\n",
    "ax.plot(x6, ci_forecast_sst_bias[1], 'grey')\n",
    "ax.fill_between(x6,y6,ci_forecast_sst_bias[0],color='grey',alpha=0.25)\n",
    "ax.fill_between(x6,y6,ci_forecast_sst_bias[1],color='grey',alpha=0.25)\n",
    "ax.plot(x6,y6,color='grey',linewidth=3)\n",
    "\n",
    "if p_value6<0.05:\n",
    "    textstr = '\\n'.join((r'$s=%.2f$ $\\pm$ %.3f K$\\cdot$m$^{-1}$' %\n",
    "                     (alpha6, std6*ts6),\n",
    "                     r'$R^{2}=%.2f$' % (r6**2, ),\n",
    "                    'p-value < 0.05'))\n",
    "else:\n",
    "    textstr = '\\n'.join((r'$s=%.2f$ $\\pm$ %.3f K$\\cdot$m$^{-1}$' %\n",
    "                     (alpha6, std6*ts6),\n",
    "                     r'$R^{2}=%.2f$' % (r6**2, ),\n",
    "                    'p-value > 0.05'))\n",
    "    \n",
    "props = dict(boxstyle='round', facecolor='white', ec='grey', lw=2)\n",
    "\n",
    "# place a text box in upper left in axes coords\n",
    "ax.text(0.6,\n",
    "         0.97,\n",
    "         textstr,\n",
    "         transform=ax.transAxes,\n",
    "         fontsize=10,\n",
    "         verticalalignment='top',\n",
    "         bbox=props)\n",
    "\n",
    "#plt.savefig(path_fig + 'figure_R6_review.pdf',\n",
    "#            dpi=300, bbox_inches='tight')"
   ]
  },
  {
   "cell_type": "code",
   "execution_count": null,
   "id": "0be9a12f",
   "metadata": {},
   "outputs": [],
   "source": []
  }
 ],
 "metadata": {
  "kernelspec": {
   "display_name": "Python 3 (ipykernel)",
   "language": "python",
   "name": "python3"
  },
  "language_info": {
   "codemirror_mode": {
    "name": "ipython",
    "version": 3
   },
   "file_extension": ".py",
   "mimetype": "text/x-python",
   "name": "python",
   "nbconvert_exporter": "python",
   "pygments_lexer": "ipython3",
   "version": "3.7.10"
  }
 },
 "nbformat": 4,
 "nbformat_minor": 5
}
