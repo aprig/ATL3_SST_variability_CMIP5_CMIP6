{
 "cells": [
  {
   "cell_type": "code",
   "execution_count": 1,
   "metadata": {},
   "outputs": [],
   "source": [
    "# Author : Arthur Prigent\n",
    "# Email: aprigent@geomar.de"
   ]
  },
  {
   "cell_type": "code",
   "execution_count": 2,
   "metadata": {},
   "outputs": [],
   "source": [
    "from load_librairies import *\n",
    "import xscale.signal.fitting as xsf\n",
    "from mpl_toolkits.axes_grid1.inset_locator import inset_axes\n",
    "import seaborn as sns\n",
    "\n",
    "import warnings\n",
    "warnings.filterwarnings('ignore')\n",
    "\n",
    "period_str_1 = 1982\n",
    "period_end_1 = 1999\n",
    "\n",
    "period_str_2 = 2000\n",
    "period_end_2 = 2014\n",
    "\n",
    "\n",
    "\n",
    "def is_jja(month):\n",
    "    return (month >= 6) & (month <= 8)\n",
    "def is_mjj(month):\n",
    "    return (month >= 5) & (month <= 7)\n",
    "#def is_amj(month):\n",
    "#    return (month >= 4) & (month <= 6)\n",
    "\n",
    "def relative_std(a, b):\n",
    "    return (a - b) / a\n",
    "\n",
    "def f_test(x, y):\n",
    "    x = np.array(x)\n",
    "    y = np.array(y)\n",
    "    f = np.var(x, ddof=1)/np.var(y, ddof=1) #calculate F test statistic \n",
    "    dfn = x.size-1 #define degrees of freedom numerator \n",
    "    dfd = y.size-1 #define degrees of freedom denominator \n",
    "    p = 1-stats.f.cdf(f, dfn, dfd) #find p-value of F test statistic \n",
    "    return f, p\n",
    "\n",
    "def month_range_day(start=None, periods=None):\n",
    "    start_date = pd.Timestamp(start).date()\n",
    "    month_range = pd.date_range(start=start_date, periods=periods, freq='M')\n",
    "    month_day = month_range.day.values\n",
    "    month_day[start_date.day < month_day] = start_date.day\n",
    "    return pd.to_datetime(month_range.year*10000+month_range.month*100+month_day, format='%Y%m%d')\n",
    "######################\n",
    "#      TO CHANGE     # \n",
    "######################\n",
    "\n",
    "path_fig = '/Users/aprigent/Documents/Thesis_GEOMAR/Projects/weakened_sst_variability_CMIP5/figures/new_version/reviews/'\n",
    "path_data = '/Users/aprigent/Documents/Thesis_GEOMAR/Projects/weakened_sst_variability_CMIP5/scripts/new_version/to_publish/data/'"
   ]
  },
  {
   "cell_type": "markdown",
   "metadata": {},
   "source": [
    "# Observations SST"
   ]
  },
  {
   "cell_type": "code",
   "execution_count": 3,
   "metadata": {},
   "outputs": [],
   "source": [
    "# 1854-2022\n",
    "sst_ersst = xr.open_dataset('/Users/aprigent/Documents/Thesis_GEOMAR/Data/ERSSTv5/sst.mnmean.ersstv5.nc') \n",
    "\n",
    "sst_ersst = xr.concat([sst_ersst.sst[:, :, 90:], sst_ersst.sst[ :,:, :90]], dim='lon')\n",
    "sst_ersst.coords['lon'] = (sst_ersst.coords['lon'] + 180) % 360 - 180\n",
    "sst_ersst_1 = sst_ersst.sel(time=slice(datetime(period_str_1, 1, 1), datetime(period_end_1, 12, 31)))\n",
    "sst_ersst_1 = sst_ersst_1.chunk(chunks=None)\n",
    "sst_ersst_1 = xsf.detrend(sst_ersst_1,dim='time',type='linear')\n",
    "\n",
    "\n",
    "sst_ersst_2 = sst_ersst.sel(time=slice(datetime(period_str_2, 1, 1), datetime(period_end_2, 12, 31)))\n",
    "sst_ersst_2 = sst_ersst_2.chunk(chunks=None)\n",
    "sst_ersst_2 = xsf.detrend(sst_ersst_2,dim='time',type='linear')"
   ]
  },
  {
   "cell_type": "code",
   "execution_count": 4,
   "metadata": {},
   "outputs": [],
   "source": [
    "sst_ersst_atl3_1 = Atools.data_sub(sst_ersst_1,-20,0,-3,3).mean(dim='lon').mean(dim='lat')\n",
    "ssta_ersst_atl3_1,_ = Atools.ano_norm_t(sst_ersst_atl3_1.load())\n",
    "std_ssta_ersst_atl3_jja_1 = ssta_ersst_atl3_1.sel(time=is_jja(\n",
    "    ssta_ersst_atl3_1['time.month'])).std(dim='time')\n",
    "\n",
    "sst_ersst_atl3_2 = Atools.data_sub(sst_ersst_2,-20,0,-3,3).mean(dim='lon').mean(dim='lat')\n",
    "ssta_ersst_atl3_2,_ = Atools.ano_norm_t(sst_ersst_atl3_2.load())\n",
    "std_ssta_ersst_atl3_jja_2 = ssta_ersst_atl3_2.sel(time=is_jja(\n",
    "    ssta_ersst_atl3_2['time.month'])).std(dim='time')"
   ]
  },
  {
   "cell_type": "markdown",
   "metadata": {},
   "source": [
    "# ERA5 "
   ]
  },
  {
   "cell_type": "code",
   "execution_count": 5,
   "metadata": {},
   "outputs": [],
   "source": [
    "# 1979-2020\n",
    "## Load mask ##\n",
    "nc_mask = xr.open_dataset(\n",
    "    '/Users/aprigent/Documents/Thesis_GEOMAR/Data/ERA5/ERA_landsea_mask.nc')\n",
    "lsm = nc_mask.lsm[0,:,:]\n",
    "lsm = xr.concat([lsm[ :, 720:], lsm[ :, :720]], dim='longitude')\n",
    "lsm.coords['longitude'] = (lsm.coords['longitude'] + 180) % 360 - 180\n",
    "\n",
    "### Load data ##\n",
    "sst_era5_tmp = xr.open_dataset('/Users/aprigent/Documents/Thesis_GEOMAR/Data/ERA5/era5.sst.atl.1979.2020.nc')\n",
    "sst_era5 = sst_era5_tmp.sst[:,0,:,:] - 273.15\n",
    "\n",
    "## Take the period 1982/01 - 1999/12 ##\n",
    "sst_era5_1 = sst_era5.sel(time=slice(datetime(period_str_1, 1, 1), datetime(period_end_1, 12, 31)))\n",
    "sst_era5_1 = sst_era5_1.chunk(chunks=None)\n",
    "sst_era5_1 = xsf.detrend(sst_era5_1,dim='time',type='linear')\n",
    "\n",
    "\n",
    "## Take the period 2000/01 - 2014/12 ##\n",
    "sst_era5_2 = sst_era5.sel(time=slice(datetime(period_str_2, 1, 1), datetime(period_end_2, 12, 31)))\n",
    "sst_era5_2 = sst_era5_2.chunk(chunks=None)\n",
    "sst_era5_2 = xsf.detrend(sst_era5_2,dim='time',type='linear')\n",
    "\n",
    "sst_era5_atl3_1 = Atools.data_sub(sst_era5_1,-20,0,-3,3).mean(dim='longitude').mean(dim='latitude')\n",
    "ssta_era5_atl3_1,_ = Atools.ano_norm_t(sst_era5_atl3_1.load())\n",
    "std_ssta_era5_atl3_jja_1 = ssta_era5_atl3_1.sel(time=is_jja(\n",
    "    ssta_era5_atl3_1['time.month'])).std(dim='time')\n",
    "\n",
    "sst_era5_atl3_2 = Atools.data_sub(sst_era5_2,-20,0,-3,3).mean(dim='longitude').mean(dim='latitude')\n",
    "ssta_era5_atl3_2,_ = Atools.ano_norm_t(sst_era5_atl3_2.load())\n",
    "std_ssta_era5_atl3_jja_2 = ssta_era5_atl3_2.sel(time=is_jja(\n",
    "    ssta_era5_atl3_2['time.month'])).std(dim='time')"
   ]
  },
  {
   "cell_type": "markdown",
   "metadata": {},
   "source": [
    "# OI-SST"
   ]
  },
  {
   "cell_type": "code",
   "execution_count": 6,
   "metadata": {},
   "outputs": [],
   "source": [
    "# 1981-2019\n",
    "## Load the data ##\n",
    "nc = xr.open_dataset('/Users/aprigent/Documents/Thesis_GEOMAR/Data/OI_SST_v2/oi.sst.v2.monmean.nc')\n",
    "sst_oiss = nc.sst[:]\n",
    "sst_oiss = xr.concat([sst_oiss[:, :, 720:], sst_oiss[:, :, :720]], dim='lon')\n",
    "sst_oiss.coords['lon'] = (sst_oiss.coords['lon'] + 180) % 360 - 180\n",
    "\n",
    "## Take the period 1982/01-1999/12 ##\n",
    "sst_oiss_1 = sst_oiss.sel(time=slice(datetime(period_str_1, 1, 1), datetime(period_end_1, 12, 31)))\n",
    "sst_oiss_1 = sst_oiss_1.chunk(chunks=None)\n",
    "sst_oiss_1 = xsf.detrend(sst_oiss_1,dim='time',type='linear')\n",
    "\n",
    "## Take the period 2000/01-2014/12 ##\n",
    "sst_oiss_2 = sst_oiss.sel(time=slice(datetime(period_str_2, 1, 1), datetime(period_end_2, 12, 31)))\n",
    "sst_oiss_2 = sst_oiss_2.chunk(chunks=None)\n",
    "sst_oiss_2 = xsf.detrend(sst_oiss_2,dim='time',type='linear')\n"
   ]
  },
  {
   "cell_type": "code",
   "execution_count": 7,
   "metadata": {},
   "outputs": [],
   "source": [
    "sst_oiss_atl3_1 = Atools.data_sub(sst_oiss_1,-20,0,-3,3).mean(dim='lon').mean(dim='lat')\n",
    "ssta_oiss_atl3_1,_ = Atools.ano_norm_t(sst_oiss_atl3_1.load())\n",
    "std_ssta_oiss_atl3_jja_1 = ssta_oiss_atl3_1.sel(time=is_jja(\n",
    "    ssta_oiss_atl3_1['time.month'])).std(dim='time')\n",
    "\n",
    "sst_oiss_atl3_2 = Atools.data_sub(sst_oiss_2,-20,0,-3,3).mean(dim='lon').mean(dim='lat')\n",
    "ssta_oiss_atl3_2,_ = Atools.ano_norm_t(sst_oiss_atl3_2.load())\n",
    "std_ssta_oiss_atl3_jja_2 = ssta_oiss_atl3_2.sel(time=is_jja(\n",
    "    ssta_oiss_atl3_2['time.month'])).std(dim='time')\n"
   ]
  },
  {
   "cell_type": "markdown",
   "metadata": {},
   "source": [
    "# HadI-SST"
   ]
  },
  {
   "cell_type": "code",
   "execution_count": 8,
   "metadata": {},
   "outputs": [],
   "source": [
    "## Load data ##\n",
    "nc = xr.open_mfdataset(\n",
    "    '/Users/aprigent/Documents/Thesis_GEOMAR/Data/HADI_SST/HadISST_sst.nc')\n",
    "sst_hadi = nc.sst[:]\n",
    "sst_hadi = sst_hadi.where(sst_hadi>-100)\n",
    "\n",
    "## take the period 1982/01- 1999/12 ##\n",
    "sst_hadi_1 = sst_hadi.sel(time=slice(datetime(period_str_1, 1, 1), datetime(period_end_1, 12, 31)))\n",
    "sst_hadi_1 = sst_hadi_1.chunk(chunks=None)\n",
    "sst_hadi_1 = xsf.detrend(sst_hadi_1,dim='time',type='linear')\n",
    "## take the period 2000/01- 2014/12 ##\n",
    "sst_hadi_2 = sst_hadi.sel(time=slice(datetime(period_str_2, 1, 1), datetime(period_end_2, 12, 31)))\n",
    "sst_hadi_2 = sst_hadi_2.chunk(chunks=None)\n",
    "sst_hadi_2 = xsf.detrend(sst_hadi_2,dim='time',type='linear')"
   ]
  },
  {
   "cell_type": "code",
   "execution_count": 9,
   "metadata": {},
   "outputs": [],
   "source": [
    "sst_hadi_atl3_1 = Atools.data_sub(sst_hadi_1,-20,0,-3,3).mean(dim='longitude').mean(dim='latitude')\n",
    "ssta_hadi_atl3_1,_ = Atools.ano_norm_t(sst_hadi_atl3_1.load())\n",
    "std_ssta_hadi_atl3_jja_1 = ssta_hadi_atl3_1.sel(time=is_jja(\n",
    "    ssta_hadi_atl3_1['time.month'])).std(dim='time')\n",
    "sst_hadi_atl3_2 = Atools.data_sub(sst_hadi_2,-20,0,-3,3).mean(dim='longitude').mean(dim='latitude')\n",
    "ssta_hadi_atl3_2,_ = Atools.ano_norm_t(sst_hadi_atl3_2.load())\n",
    "std_ssta_hadi_atl3_jja_2 = ssta_hadi_atl3_2.sel(time=is_jja(\n",
    "    ssta_hadi_atl3_2['time.month'])).std(dim='time')"
   ]
  },
  {
   "cell_type": "markdown",
   "metadata": {},
   "source": [
    "# Load CMIP data"
   ]
  },
  {
   "cell_type": "code",
   "execution_count": 10,
   "metadata": {},
   "outputs": [],
   "source": [
    "## created by /Users/aprigent/Documents/Thesis_GEOMAR/Projects/\n",
    "#weakened_sst_variability_CMIP5/scripts/new_version/to_publish/scripts_tmp/\n",
    "#create_file_std_ssta_uasa_CMIP5.ipynb\n",
    "#create_file_std_ssta_uasa_CMIP6.ipynb\n",
    "\n",
    "\n",
    "## Load CMIP6 period 1982-01 - 1999/12 ##\n",
    "ssta_atl3_hist_cmip6_1982_1999 = xr.open_dataset(path_data+'ssta_hist_monthly_CMIP6_1982_1999.nc')\n",
    "ssta_atl3_hist_cmip6_1982_1999_jja = ssta_atl3_hist_cmip6_1982_1999.ssta.sel(time=is_jja(\n",
    "    ssta_atl3_hist_cmip6_1982_1999['time.month'])).std(dim='time')\n",
    "\n",
    "\n",
    "ssta_atl3_hist_cmip6_2000_2014 = xr.open_dataset(path_data+'ssta_hist_monthly_CMIP6_2000_2014.nc')\n",
    "ssta_atl3_hist_cmip6_2000_2014_jja = ssta_atl3_hist_cmip6_2000_2014.ssta.sel(time=is_jja(\n",
    "    ssta_atl3_hist_cmip6_2000_2014['time.month'])).std(dim='time')\n",
    "\n",
    "\n",
    "ssta_atl3_hist_cmip5 = xr.open_dataset(path_data+'ssta_hist_monthly_CMIP5.nc')\n",
    "ssta_atl3_ssp5_cmip5 = xr.open_dataset(path_data+'ssta_ssp5_monthly_CMIP5.nc')\n",
    "\n",
    "ssta_atl3_hist_cmip6 = xr.open_dataset(path_data+'ssta_hist_monthly_CMIP6.nc')\n",
    "ssta_atl3_ssp5_cmip6 = xr.open_dataset(path_data+'ssta_ssp585_monthly_CMIP6.nc')\n",
    "\n",
    "\n",
    "std_ssta_atl3_hist_cmip5_jja = ssta_atl3_hist_cmip5.ssta.sel(time=is_jja(\n",
    "    ssta_atl3_hist_cmip5['time.month'])).std(dim='time')\n",
    "\n",
    "std_ssta_atl3_ssp5_cmip5_jja = ssta_atl3_ssp5_cmip5.ssta.sel(time=is_jja(\n",
    "    ssta_atl3_ssp5_cmip5['time.month'])).std(dim='time')\n",
    "\n",
    "std_ssta_atl3_hist_cmip6_jja = ssta_atl3_hist_cmip6.ssta.sel(time=is_jja(\n",
    "    ssta_atl3_hist_cmip6['time.month'])).std(dim='time')\n",
    "\n",
    "std_ssta_atl3_ssp5_cmip6_jja = ssta_atl3_ssp5_cmip6.ssta.sel(time=is_jja(\n",
    "    ssta_atl3_ssp5_cmip6['time.month'])).std(dim='time')"
   ]
  },
  {
   "cell_type": "code",
   "execution_count": 11,
   "metadata": {},
   "outputs": [
    {
     "name": "stdout",
     "output_type": "stream",
     "text": [
      "ens mean CMIP6 1950-1999 = 0.51 +/- 0.14\n",
      "ens mean CMIP6 1982-1999 = 0.49 +/- 0.12\n",
      "ens mean CMIP6 2000-2014 = 0.48 +/- 0.12\n",
      "ens mean CMIP6 2050-2099 = 0.42 +/- 0.14\n"
     ]
    }
   ],
   "source": [
    "print('ens mean CMIP6 1950-1999 =',np.round(std_ssta_atl3_hist_cmip6_jja.mean(dim='model').values,2),'+/-',\n",
    "      np.round(std_ssta_atl3_hist_cmip6_jja.std(dim='model').values,2))\n",
    "\n",
    "print('ens mean CMIP6 1982-1999 =',np.round(ssta_atl3_hist_cmip6_1982_1999_jja.mean(dim='model').values,2),'+/-',\n",
    "      np.round(ssta_atl3_hist_cmip6_1982_1999_jja.std(dim='model').values,2))\n",
    "\n",
    "print('ens mean CMIP6 2000-2014 =',np.round(ssta_atl3_hist_cmip6_2000_2014_jja.mean(dim='model').values,2),'+/-',\n",
    "      np.round(ssta_atl3_hist_cmip6_1982_1999_jja.std(dim='model').values,2))\n",
    "\n",
    "print('ens mean CMIP6 2050-2099 =',np.round(std_ssta_atl3_ssp5_cmip6_jja.mean(dim='model').values,2),'+/-',\n",
    "      np.round(std_ssta_atl3_ssp5_cmip6_jja.std(dim='model').values,2))"
   ]
  },
  {
   "cell_type": "code",
   "execution_count": 12,
   "metadata": {},
   "outputs": [],
   "source": [
    "ens_obs_jja_1 = [std_ssta_ersst_atl3_jja_1.values,std_ssta_oiss_atl3_jja_1.values,\n",
    "           std_ssta_hadi_atl3_jja_1.values,std_ssta_era5_atl3_jja_1.values]\n",
    "\n",
    "ens_obs_jja_2 = [std_ssta_ersst_atl3_jja_2.values,std_ssta_oiss_atl3_jja_2.values,\n",
    "           std_ssta_hadi_atl3_jja_2.values,std_ssta_era5_atl3_jja_2.values]"
   ]
  },
  {
   "cell_type": "code",
   "execution_count": 13,
   "metadata": {},
   "outputs": [
    {
     "name": "stdout",
     "output_type": "stream",
     "text": [
      "OBS ens mean 1982-1999 =  0.62 +/- 0.04\n",
      "OBS ens mean 2000-2014 =  0.42 +/- 0.03\n"
     ]
    }
   ],
   "source": [
    "print('OBS ens mean 1982-1999 = ',np.round(np.mean(ens_obs_jja_1),2),'+/-',np.round(np.std(ens_obs_jja_1),2))\n",
    "print('OBS ens mean 2000-2014 = ',np.round(np.mean(ens_obs_jja_2),2),'+/-',np.round(np.std(ens_obs_jja_2),2))"
   ]
  },
  {
   "cell_type": "code",
   "execution_count": null,
   "metadata": {},
   "outputs": [],
   "source": []
  }
 ],
 "metadata": {
  "kernelspec": {
   "display_name": "Python 3 (ipykernel)",
   "language": "python",
   "name": "python3"
  },
  "language_info": {
   "codemirror_mode": {
    "name": "ipython",
    "version": 3
   },
   "file_extension": ".py",
   "mimetype": "text/x-python",
   "name": "python",
   "nbconvert_exporter": "python",
   "pygments_lexer": "ipython3",
   "version": "3.7.10"
  }
 },
 "nbformat": 4,
 "nbformat_minor": 4
}
