{
 "cells": [
  {
   "cell_type": "code",
   "execution_count": 1,
   "metadata": {},
   "outputs": [],
   "source": [
    "# Author : Arthur Prigent\n",
    "# Email: aprigent@geomar.de"
   ]
  },
  {
   "cell_type": "code",
   "execution_count": 2,
   "metadata": {},
   "outputs": [],
   "source": [
    "from load_librairies import *\n",
    "import xscale.signal.fitting as xsf\n",
    "from mpl_toolkits.axes_grid1.inset_locator import inset_axes\n",
    "import seaborn as sns\n",
    "\n",
    "import warnings\n",
    "warnings.filterwarnings('ignore')\n",
    "\n",
    "period_str_1 = 1982\n",
    "period_end_1 = 2017\n",
    "\n",
    "\n",
    "\n",
    "def is_jja(month):\n",
    "    return (month >= 6) & (month <= 8)\n",
    "def is_mjj(month):\n",
    "    return (month >= 5) & (month <= 7)\n",
    "def is_amj(month):\n",
    "    return (month >= 4) & (month <= 6)\n",
    "\n",
    "def relative_std(a, b):\n",
    "    return (a - b) / a\n",
    "\n",
    "def f_test(x, y):\n",
    "    x = np.array(x)\n",
    "    y = np.array(y)\n",
    "    f = np.var(x, ddof=1)/np.var(y, ddof=1) #calculate F test statistic \n",
    "    dfn = x.size-1 #define degrees of freedom numerator \n",
    "    dfd = y.size-1 #define degrees of freedom denominator \n",
    "    p = 1-stats.f.cdf(f, dfn, dfd) #find p-value of F test statistic \n",
    "    return f, p\n",
    "\n",
    "def month_range_day(start=None, periods=None):\n",
    "    start_date = pd.Timestamp(start).date()\n",
    "    month_range = pd.date_range(start=start_date, periods=periods, freq='M')\n",
    "    month_day = month_range.day.values\n",
    "    month_day[start_date.day < month_day] = start_date.day\n",
    "    return pd.to_datetime(month_range.year*10000+month_range.month*100+month_day, format='%Y%m%d')\n",
    "######################\n",
    "#      TO CHANGE     # \n",
    "######################\n",
    "\n",
    "path_fig = '/Users/aprigent/Documents/Thesis_GEOMAR/Projects/weakened_sst_variability_CMIP5/figures/new_version/reviews/'\n",
    "path_data = '/Users/aprigent/Documents/Thesis_GEOMAR/Projects/weakened_sst_variability_CMIP5/scripts/new_version/to_publish/data/'"
   ]
  },
  {
   "cell_type": "code",
   "execution_count": 3,
   "metadata": {},
   "outputs": [],
   "source": [
    "nc = xr.open_dataset(\n",
    "    '/Users/aprigent/Documents/Thesis_GEOMAR/Data/ERA_INTERIM/ERA_interim_uv_1979_2018_1x1.nc')\n",
    "nc = nc.sel(time=slice(datetime(period_str_1, 1, 1), datetime(period_end_1, 12, 31)))\n",
    "u10_eraint = nc.u10[:,:,:]\n",
    "u10_eraint = xr.concat([u10_eraint[:, :, 180:], u10_eraint[:, :, :180]], dim='longitude')\n",
    "u10_eraint.coords['longitude'] = (u10_eraint.coords['longitude'] + 180) % 360 - 180\n",
    "\n",
    "u10_eraint = u10_eraint.chunk(chunks=None)\n",
    "u10_eraint = xsf.detrend(u10_eraint,dim='time',type='linear')\n",
    "\n",
    "\n",
    "u10_eraint_atl4 = Atools.data_sub(u10_eraint,-40,-20,-3,3).mean(dim='longitude').mean(dim='latitude')\n",
    "u10a_eraint_atl4,_ = Atools.ano_norm_t(u10_eraint_atl4.load())\n",
    "std_u10a_eraint_atl4_amj = u10a_eraint_atl4.sel(time=is_mjj(\n",
    "    u10a_eraint_atl4['time.month'])).std(dim='time')"
   ]
  },
  {
   "cell_type": "code",
   "execution_count": 4,
   "metadata": {},
   "outputs": [],
   "source": [
    "nc = xr.open_dataset(\n",
    "    '/Users/aprigent/Documents/Thesis_GEOMAR/Data/NCEP-R2/uwnd.10m.mon.mean_NCEPDOE.nc')\n",
    "nc = nc.sel(time=slice(datetime(period_str_1, 1, 1), datetime(period_end_1, 12, 31)))\n",
    "u10_ncep = nc.uwnd[:,0,:,:]\n",
    "u10_ncep = xr.concat([u10_ncep[:, :, 96:], u10_ncep[:, :, :96]], dim='lon')\n",
    "u10_ncep.coords['lon'] = (u10_ncep.coords['lon'] + 180) % 360 - 180\n",
    "\n",
    "u10_ncep = u10_ncep.chunk(chunks=None)\n",
    "u10_ncep = xsf.detrend(u10_ncep,dim='time',type='linear')\n",
    "\n",
    "u10_ncep_atl4 = Atools.data_sub(u10_ncep,-40,-20,-3,3).mean(dim='lon').mean(dim='lat')\n",
    "u10a_ncep_atl4,_ = Atools.ano_norm_t(u10_ncep_atl4.load())\n",
    "std_u10a_ncep_atl4_amj = u10a_ncep_atl4.sel(time=is_mjj(\n",
    "    u10a_ncep_atl4['time.month'])).std(dim='time')\n"
   ]
  },
  {
   "cell_type": "code",
   "execution_count": 5,
   "metadata": {},
   "outputs": [],
   "source": [
    "## Load mask ##\n",
    "nc_mask = xr.open_dataset(\n",
    "    '/Users/aprigent/Documents/Thesis_GEOMAR/Data/ERA5/ERA_landsea_mask.nc')\n",
    "lsm = nc_mask.lsm[0,:,:]\n",
    "lsm = xr.concat([lsm[ :, 720:], lsm[ :, :720]], dim='longitude')\n",
    "lsm.coords['longitude'] = (lsm.coords['longitude'] + 180) % 360 - 180\n",
    "\n",
    "## Load data ##\n",
    "nc = xr.open_dataset(\n",
    "    '/Users/aprigent/Documents/Thesis_GEOMAR/Data/ERA5/era5_uwnd10m_1982_2019.nc')\n",
    "\n",
    "## Take the period 1982/01 - 2017/12 ##\n",
    "nc = nc.sel(time=slice(datetime(period_str_1, 1, 1), datetime(period_end_1, 12, 31)))\n",
    "u10_era5 = nc.u10\n",
    "u10_era5 = xr.concat([u10_era5[:, :, 720:], u10_era5[:, :, :720]], dim='longitude')\n",
    "u10_era5.coords['longitude'] = (u10_era5.coords['longitude'] + 180) % 360 - 180\n",
    "\n",
    "## Apply mask ##\n",
    "u10_era5 = u10_era5.where(lsm[:,:]==0)\n",
    "\n",
    "## Detrend data ##\n",
    "u10_era5_nondetrend = u10_era5\n",
    "u10_era5 = u10_era5.chunk(chunks=None)\n",
    "u10_era5 = xsf.detrend(u10_era5,dim='time',type='linear')\n",
    "u10_era5_atl4 = Atools.data_sub(u10_era5,-40,-20,-3,3).mean(dim='longitude').mean(dim='latitude')\n",
    "u10a_era5_atl4,_ = Atools.ano_norm_t(u10_era5_atl4.load())\n",
    "std_u10a_era5_atl4_amj = u10a_era5_atl4.sel(time=is_mjj(\n",
    "    u10a_era5_atl4['time.month'])).std(dim='time')"
   ]
  },
  {
   "cell_type": "code",
   "execution_count": 6,
   "metadata": {},
   "outputs": [],
   "source": [
    "obs_u10_std_amj = np.hstack((np.round(std_u10a_ncep_atl4_amj.values,2),\n",
    "                             np.round(std_u10a_eraint_atl4_amj.values,2),\n",
    "                             np.round(std_u10a_era5_atl4_amj.values,2)))"
   ]
  },
  {
   "cell_type": "code",
   "execution_count": 7,
   "metadata": {},
   "outputs": [
    {
     "name": "stdout",
     "output_type": "stream",
     "text": [
      "0.66 +/- 0.02\n"
     ]
    }
   ],
   "source": [
    "print(np.round(obs_u10_std_amj.mean(),2),'+/-',np.round(obs_u10_std_amj.std(),2))"
   ]
  },
  {
   "cell_type": "markdown",
   "metadata": {},
   "source": [
    "# Observations SST"
   ]
  },
  {
   "cell_type": "code",
   "execution_count": 3,
   "metadata": {},
   "outputs": [],
   "source": [
    "# 1854-2022\n",
    "sst_ersst = xr.open_dataset('/Users/aprigent/Documents/Thesis_GEOMAR/Data/ERSSTv5/sst.mnmean.ersstv5.nc') \n",
    "\n",
    "sst_ersst = xr.concat([sst_ersst.sst[:, :, 90:], sst_ersst.sst[ :,:, :90]], dim='lon')\n",
    "sst_ersst.coords['lon'] = (sst_ersst.coords['lon'] + 180) % 360 - 180\n",
    "sst_ersst_1 = sst_ersst.sel(time=slice(datetime(period_str_1, 1, 1), datetime(period_end_1, 12, 31)))\n",
    "sst_ersst_1 = sst_ersst_1.chunk(chunks=None)\n",
    "sst_ersst_1 = xsf.detrend(sst_ersst_1,dim='time',type='linear')\n",
    "\n"
   ]
  },
  {
   "cell_type": "code",
   "execution_count": 4,
   "metadata": {},
   "outputs": [],
   "source": [
    "sst_ersst_atl3_1 = Atools.data_sub(sst_ersst_1,-20,0,-3,3).mean(dim='lon').mean(dim='lat')\n",
    "ssta_ersst_atl3_1,_ = Atools.ano_norm_t(sst_ersst_atl3_1.load())\n",
    "std_ssta_ersst_atl3_jja_1 = ssta_ersst_atl3_1.sel(time=is_jja(\n",
    "    ssta_ersst_atl3_1['time.month'])).std(dim='time')\n"
   ]
  },
  {
   "cell_type": "markdown",
   "metadata": {},
   "source": [
    "# ERA5 "
   ]
  },
  {
   "cell_type": "code",
   "execution_count": 5,
   "metadata": {},
   "outputs": [],
   "source": [
    "# 1979-2020\n",
    "## Load mask ##\n",
    "nc_mask = xr.open_dataset(\n",
    "    '/Users/aprigent/Documents/Thesis_GEOMAR/Data/ERA5/ERA_landsea_mask.nc')\n",
    "lsm = nc_mask.lsm[0,:,:]\n",
    "lsm = xr.concat([lsm[ :, 720:], lsm[ :, :720]], dim='longitude')\n",
    "lsm.coords['longitude'] = (lsm.coords['longitude'] + 180) % 360 - 180\n",
    "\n",
    "### Load data ##\n",
    "#nc = xr.open_dataset(\n",
    "#    '/Users/aprigent/Documents/Thesis_GEOMAR/Data/ERA5/era5_sst_1982_2019.nc')\n",
    "#sst_era5_1 = xr.open_dataset('/Users/aprigent/Documents/Thesis_GEOMAR/Data/ERA5/era5.sst.atl.1950.1978.nc')\n",
    "sst_era5_tmp = xr.open_dataset('/Users/aprigent/Documents/Thesis_GEOMAR/Data/ERA5/era5.sst.atl.1979.2020.nc')\n",
    "sst_era5 = sst_era5_tmp.sst[:,0,:,:] - 273.15\n",
    "## Take the period 1982/01 - 2017/12 ##\n",
    "sst_era5_1 = sst_era5.sel(time=slice(datetime(period_str_1, 1, 1), datetime(period_end_1, 12, 31)))\n",
    "sst_era5_1 = sst_era5_1.chunk(chunks=None)\n",
    "sst_era5_1 = xsf.detrend(sst_era5_1,dim='time',type='linear')\n",
    "\n",
    "sst_era5_atl3_1 = Atools.data_sub(sst_era5_1,-20,0,-3,3).mean(dim='longitude').mean(dim='latitude')\n",
    "ssta_era5_atl3_1,_ = Atools.ano_norm_t(sst_era5_atl3_1.load())\n",
    "std_ssta_era5_atl3_jja_1 = ssta_era5_atl3_1.sel(time=is_jja(\n",
    "    ssta_era5_atl3_1['time.month'])).std(dim='time')"
   ]
  },
  {
   "cell_type": "markdown",
   "metadata": {},
   "source": [
    "# OI-SST"
   ]
  },
  {
   "cell_type": "code",
   "execution_count": 6,
   "metadata": {},
   "outputs": [],
   "source": [
    "# 1981-2019\n",
    "## Load the data ##\n",
    "nc = xr.open_dataset('/Users/aprigent/Documents/Thesis_GEOMAR/Data/OI_SST_v2/oi.sst.v2.monmean.nc')\n",
    "sst_oiss = nc.sst[:]\n",
    "sst_oiss = xr.concat([sst_oiss[:, :, 720:], sst_oiss[:, :, :720]], dim='lon')\n",
    "sst_oiss.coords['lon'] = (sst_oiss.coords['lon'] + 180) % 360 - 180\n",
    "\n",
    "## Take the period 1982/01-2017/12 ##\n",
    "sst_oiss_1 = sst_oiss.sel(time=slice(datetime(period_str_1, 1, 1), datetime(period_end_1, 12, 31)))\n",
    "sst_oiss_1 = sst_oiss_1.chunk(chunks=None)\n",
    "sst_oiss_1 = xsf.detrend(sst_oiss_1,dim='time',type='linear')\n",
    "\n"
   ]
  },
  {
   "cell_type": "code",
   "execution_count": 7,
   "metadata": {},
   "outputs": [],
   "source": [
    "sst_oiss_atl3_1 = Atools.data_sub(sst_oiss_1,-20,0,-3,3).mean(dim='lon').mean(dim='lat')\n",
    "ssta_oiss_atl3_1,_ = Atools.ano_norm_t(sst_oiss_atl3_1.load())\n",
    "std_ssta_oiss_atl3_jja_1 = ssta_oiss_atl3_1.sel(time=is_jja(\n",
    "    ssta_oiss_atl3_1['time.month'])).std(dim='time')\n",
    "\n"
   ]
  },
  {
   "cell_type": "markdown",
   "metadata": {},
   "source": [
    "# HadI-SST"
   ]
  },
  {
   "cell_type": "code",
   "execution_count": 8,
   "metadata": {},
   "outputs": [],
   "source": [
    "## Load data ##\n",
    "nc = xr.open_mfdataset(\n",
    "    '/Users/aprigent/Documents/Thesis_GEOMAR/Data/HADI_SST/HadISST_sst.nc')\n",
    "sst_hadi = nc.sst[:]\n",
    "sst_hadi = sst_hadi.where(sst_hadi>-100)\n",
    "\n",
    "## take the period 1982/01- 2017/12 ##\n",
    "sst_hadi_1 = sst_hadi.sel(time=slice(datetime(period_str_1, 1, 1), datetime(period_end_1, 12, 31)))\n",
    "sst_hadi_1 = sst_hadi_1.chunk(chunks=None)\n",
    "sst_hadi_1 = xsf.detrend(sst_hadi_1,dim='time',type='linear')\n"
   ]
  },
  {
   "cell_type": "code",
   "execution_count": 9,
   "metadata": {},
   "outputs": [],
   "source": [
    "sst_hadi_atl3_1 = Atools.data_sub(sst_hadi_1,-20,0,-3,3).mean(dim='longitude').mean(dim='latitude')\n",
    "ssta_hadi_atl3_1,_ = Atools.ano_norm_t(sst_hadi_atl3_1.load())\n",
    "std_ssta_hadi_atl3_jja_1 = ssta_hadi_atl3_1.sel(time=is_jja(\n",
    "    ssta_hadi_atl3_1['time.month'])).std(dim='time')\n",
    "\n"
   ]
  },
  {
   "cell_type": "code",
   "execution_count": 10,
   "metadata": {},
   "outputs": [],
   "source": [
    "ens_obs_jja_1 = [std_ssta_ersst_atl3_jja_1.values,std_ssta_oiss_atl3_jja_1.values,\n",
    "           std_ssta_hadi_atl3_jja_1.values,std_ssta_era5_atl3_jja_1.values]\n",
    "\n"
   ]
  },
  {
   "cell_type": "code",
   "execution_count": 11,
   "metadata": {},
   "outputs": [
    {
     "name": "stdout",
     "output_type": "stream",
     "text": [
      "OBS ens mean 1982-2017 =  0.54 +/- 0.02\n"
     ]
    }
   ],
   "source": [
    "print('OBS ens mean 1982-2017 = ',np.round(np.mean(ens_obs_jja_1),2),'+/-',np.round(np.std(ens_obs_jja_1),2))\n"
   ]
  },
  {
   "cell_type": "code",
   "execution_count": 12,
   "metadata": {},
   "outputs": [
    {
     "data": {
      "text/plain": [
       "[array(0.52150044), array(0.52388235), array(0.52271364), array(0.57929921)]"
      ]
     },
     "execution_count": 12,
     "metadata": {},
     "output_type": "execute_result"
    }
   ],
   "source": [
    "ens_obs_jja_1"
   ]
  },
  {
   "cell_type": "code",
   "execution_count": null,
   "metadata": {},
   "outputs": [],
   "source": []
  }
 ],
 "metadata": {
  "kernelspec": {
   "display_name": "Python 3 (ipykernel)",
   "language": "python",
   "name": "python3"
  },
  "language_info": {
   "codemirror_mode": {
    "name": "ipython",
    "version": 3
   },
   "file_extension": ".py",
   "mimetype": "text/x-python",
   "name": "python",
   "nbconvert_exporter": "python",
   "pygments_lexer": "ipython3",
   "version": "3.7.10"
  }
 },
 "nbformat": 4,
 "nbformat_minor": 4
}
