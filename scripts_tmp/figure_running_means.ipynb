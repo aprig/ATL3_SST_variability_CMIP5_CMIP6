{
 "cells": [
  {
   "cell_type": "code",
   "execution_count": 1,
   "metadata": {},
   "outputs": [],
   "source": [
    "# Author : Arthur Prigent\n",
    "# Email: aprigent@geomar.de"
   ]
  },
  {
   "cell_type": "code",
   "execution_count": 2,
   "metadata": {},
   "outputs": [],
   "source": [
    "from load_librairies import *\n",
    "import xscale.signal.fitting as xsf\n",
    "from mpl_toolkits.axes_grid1.inset_locator import inset_axes\n",
    "import seaborn as sns\n",
    "\n",
    "import warnings\n",
    "warnings.filterwarnings('ignore')\n",
    "\n",
    "period_str_1 = 1950\n",
    "period_end_1 = 1999\n",
    "\n",
    "period_str_2 = 2050\n",
    "period_end_2 = 2099\n",
    "\n",
    "def is_jja(month):\n",
    "    return (month >= 6) & (month <= 8)\n",
    "def is_mjj(month):\n",
    "    return (month >= 5) & (month <= 7)\n",
    "def is_amj(month):\n",
    "    return (month >= 4) & (month <= 6)\n",
    "\n",
    "def relative_std(a, b):\n",
    "    return (a - b) / a\n",
    "\n",
    "def f_test(x, y):\n",
    "    x = np.array(x)\n",
    "    y = np.array(y)\n",
    "    f = np.var(x, ddof=1)/np.var(y, ddof=1) #calculate F test statistic \n",
    "    dfn = x.size-1 #define degrees of freedom numerator \n",
    "    dfd = y.size-1 #define degrees of freedom denominator \n",
    "    p = 1-stats.f.cdf(f, dfn, dfd) #find p-value of F test statistic \n",
    "    return f, p\n",
    "\n",
    "def month_range_day(start=None, periods=None):\n",
    "    start_date = pd.Timestamp(start).date()\n",
    "    month_range = pd.date_range(start=start_date, periods=periods, freq='M')\n",
    "    month_day = month_range.day.values\n",
    "    month_day[start_date.day < month_day] = start_date.day\n",
    "    return pd.to_datetime(month_range.year*10000+month_range.month*100+month_day, format='%Y%m%d')\n",
    "######################\n",
    "#      TO CHANGE     # \n",
    "######################\n",
    "\n",
    "path_fig = '/Users/aprigent/Documents/Thesis_GEOMAR/Projects/weakened_sst_variability_CMIP5/figures/new_version/reviews/'\n",
    "path_data = '/Users/aprigent/Documents/Thesis_GEOMAR/Projects/weakened_sst_variability_CMIP5/scripts/new_version/to_publish/data/'"
   ]
  },
  {
   "cell_type": "markdown",
   "metadata": {},
   "source": [
    "# Observations winds\n"
   ]
  },
  {
   "cell_type": "code",
   "execution_count": 3,
   "metadata": {},
   "outputs": [],
   "source": [
    "nc = xr.open_dataset(\n",
    "    '/Users/aprigent/Documents/Thesis_GEOMAR/Data/ERA_INTERIM/ERA_interim_uv_1979_2018_1x1.nc')\n",
    "nc = nc.sel(time=slice(datetime(2000, 1, 1), datetime(2014, 12, 31)))\n",
    "u10_eraint = nc.u10[:,:,:]\n",
    "u10_eraint = xr.concat([u10_eraint[:, :, 180:], u10_eraint[:, :, :180]], dim='longitude')\n",
    "u10_eraint.coords['longitude'] = (u10_eraint.coords['longitude'] + 180) % 360 - 180\n",
    "\n",
    "u10_eraint = u10_eraint.chunk(chunks=None)\n",
    "u10_eraint = xsf.detrend(u10_eraint,dim='time',type='linear')"
   ]
  },
  {
   "cell_type": "code",
   "execution_count": 4,
   "metadata": {},
   "outputs": [],
   "source": [
    "u10_eraint_atl4 = Atools.data_sub(u10_eraint,-40,-20,-3,3).mean(dim='longitude').mean(dim='latitude')\n",
    "u10a_eraint_atl4,_ = Atools.ano_norm_t(u10_eraint_atl4.load())\n",
    "std_u10a_eraint_atl4_amj = u10a_eraint_atl4.sel(time=is_amj(\n",
    "    u10a_eraint_atl4['time.month'])).std(dim='time')"
   ]
  },
  {
   "cell_type": "code",
   "execution_count": 4,
   "metadata": {},
   "outputs": [],
   "source": [
    "nc = xr.open_dataset(\n",
    "    '/Users/aprigent/Documents/Thesis_GEOMAR/Data/NCEP-R2/uwnd.10m.mon.mean_NCEPDOE.nc')\n",
    "nc = nc.sel(time=slice(datetime(2000, 1, 1), datetime(2014, 12, 31)))\n",
    "u10_ncep = nc.uwnd[:,0,:,:]\n",
    "u10_ncep = xr.concat([u10_ncep[:, :, 96:], u10_ncep[:, :, :96]], dim='lon')\n",
    "u10_ncep.coords['lon'] = (u10_ncep.coords['lon'] + 180) % 360 - 180\n",
    "\n",
    "u10_ncep = u10_ncep.chunk(chunks=None)\n",
    "u10_ncep = xsf.detrend(u10_ncep,dim='time',type='linear')"
   ]
  },
  {
   "cell_type": "code",
   "execution_count": 5,
   "metadata": {},
   "outputs": [],
   "source": [
    "u10_ncep_atl4 = Atools.data_sub(u10_ncep,-40,-20,-3,3).mean(dim='lon').mean(dim='lat')\n",
    "u10a_ncep_atl4,_ = Atools.ano_norm_t(u10_ncep_atl4.load())\n",
    "std_u10a_ncep_atl4_amj = u10a_ncep_atl4.sel(time=is_amj(\n",
    "    u10a_ncep_atl4['time.month'])).std(dim='time')"
   ]
  },
  {
   "cell_type": "code",
   "execution_count": 6,
   "metadata": {},
   "outputs": [],
   "source": [
    "## Load mask ##\n",
    "nc_mask = xr.open_dataset(\n",
    "    '/Users/aprigent/Documents/Thesis_GEOMAR/Data/ERA5/ERA_landsea_mask.nc')\n",
    "lsm = nc_mask.lsm[0,:,:]\n",
    "lsm = xr.concat([lsm[ :, 720:], lsm[ :, :720]], dim='longitude')\n",
    "lsm.coords['longitude'] = (lsm.coords['longitude'] + 180) % 360 - 180\n",
    "\n",
    "## Load data ##\n",
    "nc = xr.open_dataset(\n",
    "    '/Users/aprigent/Documents/Thesis_GEOMAR/Data/ERA5/era5_uwnd10m_1982_2019.nc')\n",
    "\n",
    "## Take the period 1982/01 - 2017/12 ##\n",
    "nc = nc.sel(time=slice(datetime(2000, 1, 1), datetime(2014, 12, 31)))\n",
    "u10_era5 = nc.u10\n",
    "u10_era5 = xr.concat([u10_era5[:, :, 720:], u10_era5[:, :, :720]], dim='longitude')\n",
    "u10_era5.coords['longitude'] = (u10_era5.coords['longitude'] + 180) % 360 - 180\n",
    "\n",
    "## Apply mask ##\n",
    "u10_era5 = u10_era5.where(lsm[:,:]==0)\n",
    "\n",
    "## Detrend data ##\n",
    "u10_era5_nondetrend = u10_era5\n",
    "u10_era5 = u10_era5.chunk(chunks=None)\n",
    "u10_era5 = xsf.detrend(u10_era5,dim='time',type='linear')\n"
   ]
  },
  {
   "cell_type": "code",
   "execution_count": 7,
   "metadata": {},
   "outputs": [],
   "source": [
    "u10_era5_atl4 = Atools.data_sub(u10_era5,-40,-20,-3,3).mean(dim='longitude').mean(dim='latitude')\n",
    "u10a_era5_atl4,_ = Atools.ano_norm_t(u10_era5_atl4.load())\n",
    "std_u10a_era5_atl4_amj = u10a_era5_atl4.sel(time=is_amj(\n",
    "    u10a_era5_atl4['time.month'])).std(dim='time')"
   ]
  },
  {
   "cell_type": "code",
   "execution_count": 8,
   "metadata": {},
   "outputs": [],
   "source": [
    "obs_u10_std_amj = np.hstack((np.round(std_u10a_ncep_atl4_amj.values,2),\n",
    "                             np.round(std_u10a_eraint_atl4_amj.values,2),\n",
    "                             np.round(std_u10a_era5_atl4_amj.values,2)))"
   ]
  },
  {
   "cell_type": "code",
   "execution_count": 9,
   "metadata": {},
   "outputs": [
    {
     "name": "stdout",
     "output_type": "stream",
     "text": [
      "0.71 +/- 0.03\n"
     ]
    }
   ],
   "source": [
    "print(np.round(obs_u10_std_amj.mean(),2),'+/-',np.round(obs_u10_std_amj.std(),2))"
   ]
  },
  {
   "cell_type": "code",
   "execution_count": 10,
   "metadata": {},
   "outputs": [
    {
     "name": "stdout",
     "output_type": "stream",
     "text": [
      "0.71 +/- 0.03\n"
     ]
    }
   ],
   "source": [
    "print(np.round(obs_u10_std_amj.mean(),2),'+/-',np.round(obs_u10_std_amj.std(),2))"
   ]
  },
  {
   "cell_type": "markdown",
   "metadata": {},
   "source": [
    "# Observations SST"
   ]
  },
  {
   "cell_type": "code",
   "execution_count": 11,
   "metadata": {},
   "outputs": [],
   "source": [
    "sst_ersst = xr.open_dataset('/Users/aprigent/Documents/Thesis_GEOMAR/Data/ERSSTv5/sst.mnmean.ersstv5.nc')\n",
    "sst_ersst = xr.concat([sst_ersst.sst[:, :, 90:], sst_ersst.sst[ :,:, :90]], dim='lon')\n",
    "sst_ersst.coords['lon'] = (sst_ersst.coords['lon'] + 180) % 360 - 180\n",
    "\n",
    "sst_ersst = sst_ersst.sel(time=slice(datetime(1950, 1, 1), datetime(2019, 12, 31)))\n",
    "\n",
    "sst_ersst = sst_ersst.chunk(chunks=None)\n",
    "sst_ersst = xsf.detrend(sst_ersst,dim='time',type='linear')\n"
   ]
  },
  {
   "cell_type": "code",
   "execution_count": 12,
   "metadata": {},
   "outputs": [],
   "source": [
    "sst_ersst_atl3 = Atools.data_sub(sst_ersst,-20,0,-3,3).mean(dim='lon').mean(dim='lat')\n",
    "ssta_ersst_atl3,_ = Atools.ano_norm_t(sst_ersst_atl3.load())\n",
    "std_ssta_ersst_atl3_mjj = ssta_ersst_atl3.sel(time=is_mjj(\n",
    "    ssta_ersst_atl3['time.month']))"
   ]
  },
  {
   "cell_type": "code",
   "execution_count": null,
   "metadata": {},
   "outputs": [],
   "source": []
  },
  {
   "cell_type": "code",
   "execution_count": 13,
   "metadata": {},
   "outputs": [],
   "source": [
    "## Load mask ##\n",
    "nc_mask = xr.open_dataset(\n",
    "    '/Users/aprigent/Documents/Thesis_GEOMAR/Data/ERA5/ERA_landsea_mask.nc')\n",
    "lsm = nc_mask.lsm[0,:,:]\n",
    "lsm = xr.concat([lsm[ :, 720:], lsm[ :, :720]], dim='longitude')\n",
    "lsm.coords['longitude'] = (lsm.coords['longitude'] + 180) % 360 - 180\n",
    "\n",
    "### Load data ##\n",
    "#nc = xr.open_dataset(\n",
    "#    '/Users/aprigent/Documents/Thesis_GEOMAR/Data/ERA5/era5_sst_1982_2019.nc')\n",
    "sst_era5_1 = xr.open_dataset('/Users/aprigent/Documents/Thesis_GEOMAR/Data/ERA5/era5.sst.atl.1950.1978.nc')\n",
    "sst_era5_2 = xr.open_dataset('/Users/aprigent/Documents/Thesis_GEOMAR/Data/ERA5/era5.sst.atl.1979.2020.nc')\n",
    "sst_era5 = xr.concat([sst_era5_1,sst_era5_2],dim='time').sst[:,:,:,0] - 273.15\n",
    "## Take the period 1982/01 - 2017/12 ##\n",
    "sst_era5 = sst_era5.sel(time=slice(datetime(1950, 1, 1), datetime(2019, 12, 31)))\n",
    "\n",
    "#sst_era5 = xr.concat([sst_era5[:, :, 720:], sst_era5[:, :, :720]], dim='longitude')\n",
    "#sst_era5.coords['longitude'] = (sst_era5.coords['longitude'] + 180) % 360 - 180\n",
    "\n",
    "## Apply mask ##\n",
    "#sst_era5 = sst_era5.where(lsm[:,:]==0)\n",
    "\n",
    "## Detrend data ##\n",
    "sst_era5_nondetrend = sst_era5\n",
    "sst_era5 = sst_era5.chunk(chunks=None)\n",
    "sst_era5 = xsf.detrend(sst_era5,dim='time',type='linear')\n"
   ]
  },
  {
   "cell_type": "code",
   "execution_count": 14,
   "metadata": {},
   "outputs": [],
   "source": [
    "sst_era5_atl3 = Atools.data_sub(sst_era5,-20,0,-3,3).mean(dim='longitude').mean(dim='latitude')\n",
    "ssta_era5_atl3,_ = Atools.ano_norm_t(sst_era5_atl3.load())\n",
    "std_ssta_era5_atl3_mjj = ssta_era5_atl3.sel(time=is_mjj(\n",
    "    ssta_era5_atl3['time.month']))"
   ]
  },
  {
   "cell_type": "code",
   "execution_count": 15,
   "metadata": {},
   "outputs": [],
   "source": [
    "## Load the data ##\n",
    "nc = xr.open_dataset('/Users/aprigent/Documents/Thesis_GEOMAR/Data/OI_SST_v2/oi.sst.v2.monmean.nc')\n",
    "sst_oiss = nc.sst[:]\n",
    "sst_oiss = xr.concat([sst_oiss[:, :, 720:], sst_oiss[:, :, :720]], dim='lon')\n",
    "sst_oiss.coords['lon'] = (sst_oiss.coords['lon'] + 180) % 360 - 180\n",
    "\n",
    "## Take the period 1982/01-2017/12 ##\n",
    "sst_oiss = sst_oiss.sel(time=slice(datetime(1982, 1, 1), datetime(2019, 12, 31)))\n",
    "sst_oiss_ndtd = sst_oiss\n",
    "\n",
    "## Detrend the data ##\n",
    "sst_oiss = sst_oiss.chunk(chunks=None)\n",
    "sst_oiss = xsf.detrend(sst_oiss,dim='time',type='linear')"
   ]
  },
  {
   "cell_type": "code",
   "execution_count": 16,
   "metadata": {},
   "outputs": [],
   "source": [
    "sst_oiss_atl3 = Atools.data_sub(sst_oiss,-20,0,-3,3).mean(dim='lon').mean(dim='lat')\n",
    "ssta_oiss_atl3,_ = Atools.ano_norm_t(sst_oiss_atl3.load())\n",
    "std_ssta_oiss_atl3_mjj = ssta_oiss_atl3.sel(time=is_mjj(\n",
    "    ssta_oiss_atl3['time.month']))\n",
    "\n"
   ]
  },
  {
   "cell_type": "code",
   "execution_count": 17,
   "metadata": {},
   "outputs": [],
   "source": [
    "## Load data ##\n",
    "nc = xr.open_mfdataset(\n",
    "    '/Users/aprigent/Documents/Thesis_GEOMAR/Data/HADI_SST/HadISST_sst.nc')\n",
    "sst_hadi = nc.sst[:]\n",
    "sst_hadi = sst_hadi.where(sst_hadi>-100)\n",
    "\n",
    "## take the period 1982/01- 2017/12 ##\n",
    "sst_hadi = sst_hadi.sel(time=slice(datetime(1950, 1, 1), datetime(2019, 12, 31)))\n",
    "sst_hadi_ndtd = sst_hadi\n",
    "\n",
    "## Detrend the data ##\n",
    "sst_hadi = sst_hadi.chunk(chunks=None)\n",
    "sst_hadi = xsf.detrend(sst_hadi,dim='time',type='linear')"
   ]
  },
  {
   "cell_type": "code",
   "execution_count": 18,
   "metadata": {},
   "outputs": [],
   "source": [
    "sst_hadi_atl3 = Atools.data_sub(sst_hadi,-20,0,-3,3).mean(dim='longitude').mean(dim='latitude')\n",
    "ssta_hadi_atl3,_ = Atools.ano_norm_t(sst_hadi_atl3.load())\n",
    "std_ssta_hadi_atl3_mjj = ssta_hadi_atl3.sel(time=is_mjj(\n",
    "    ssta_hadi_atl3['time.month']))\n",
    "\n"
   ]
  },
  {
   "cell_type": "code",
   "execution_count": 19,
   "metadata": {},
   "outputs": [],
   "source": [
    "ssta_atl3_hist_cmip6_1950_2014 = xr.open_dataset(path_data+'ssta_hist_monthly_CMIP6_1950_2014.nc')\n",
    "ssta_atl3_hist_cmip6_1950_2014_jja = ssta_atl3_hist_cmip6_1950_2014.ssta.sel(time=is_jja(\n",
    "    ssta_atl3_hist_cmip6_1950_2014['time.month']))"
   ]
  },
  {
   "cell_type": "code",
   "execution_count": 20,
   "metadata": {},
   "outputs": [],
   "source": [
    "std_ssta_hadi_atl3_mjj_monthly_std_roll = std_ssta_hadi_atl3_mjj.rolling(\n",
    "    time=33, center = True).std()"
   ]
  },
  {
   "cell_type": "markdown",
   "metadata": {},
   "source": [
    "# Make running means"
   ]
  },
  {
   "cell_type": "code",
   "execution_count": 21,
   "metadata": {},
   "outputs": [],
   "source": [
    "\n",
    "date_center_ersst = np.arange(1955,2015,1)\n",
    "std_ssta_ersst_atl3_mjj_11yr_window = np.ones((60))*np.nan\n",
    "\n",
    "\n",
    "for i in range(std_ssta_ersst_atl3_mjj_11yr_window.shape[0]):\n",
    "    ssta_mjj_ersst = std_ssta_ersst_atl3_mjj.sel(time=slice(datetime(date_center_ersst[i]-5, 1, 1),\n",
    "                                                     datetime(date_center_ersst[i]+5, 12, 31)))\n",
    "    std_ssta_ersst_atl3_mjj_11yr_window[i] = ssta_mjj_ersst.std(dim='time')"
   ]
  },
  {
   "cell_type": "code",
   "execution_count": 22,
   "metadata": {},
   "outputs": [],
   "source": [
    "\n",
    "date_center_hadi = np.arange(1955,2015,1)\n",
    "std_ssta_hadi_atl3_mjj_11yr_window = np.ones((60))*np.nan\n",
    "\n",
    "\n",
    "for i in range(std_ssta_hadi_atl3_mjj_11yr_window.shape[0]):\n",
    "    ssta_mjj_hadi = std_ssta_hadi_atl3_mjj.sel(time=slice(datetime(date_center_hadi[i]-5, 1, 1),\n",
    "                                                     datetime(date_center_hadi[i]+5, 12, 31)))\n",
    "    std_ssta_hadi_atl3_mjj_11yr_window[i] = ssta_mjj_hadi.std(dim='time')\n",
    "    "
   ]
  },
  {
   "cell_type": "code",
   "execution_count": 23,
   "metadata": {},
   "outputs": [],
   "source": [
    "date_center_era5 = np.arange(1955,2015,1)\n",
    "std_ssta_era5_atl3_mjj_11yr_window = np.ones((60))*np.nan\n",
    "\n",
    "\n",
    "for i in range(std_ssta_era5_atl3_mjj_11yr_window.shape[0]):\n",
    "    ssta_mjj_era5 = std_ssta_era5_atl3_mjj.sel(time=slice(datetime(date_center_era5[i]-5, 1, 1),\n",
    "                                                     datetime(date_center_era5[i]+5, 12, 31)))\n",
    "    std_ssta_era5_atl3_mjj_11yr_window[i] = ssta_mjj_era5.std(dim='time')"
   ]
  },
  {
   "cell_type": "code",
   "execution_count": 24,
   "metadata": {},
   "outputs": [],
   "source": [
    "date_center_oiss = np.arange(1987,2015,1)\n",
    "std_ssta_oiss_atl3_mjj_11yr_window = np.ones((28))*np.nan\n",
    "\n",
    "\n",
    "for i in range(std_ssta_oiss_atl3_mjj_11yr_window.shape[0]):\n",
    "    ssta_mjj_oiss = std_ssta_oiss_atl3_mjj.sel(time=slice(datetime(date_center_oiss[i]-5, 1, 1),\n",
    "                                                     datetime(date_center_oiss[i]+5, 12, 31)))\n",
    "    std_ssta_oiss_atl3_mjj_11yr_window[i] = ssta_mjj_oiss.std(dim='time')"
   ]
  },
  {
   "cell_type": "code",
   "execution_count": 25,
   "metadata": {},
   "outputs": [],
   "source": [
    "date_center_cmip6 = np.arange(1955,2010,1)\n",
    "std_ssta_cmip6_atl3_jja_11yr_window = np.ones((ssta_atl3_hist_cmip6_1950_2014_jja.shape[0],55))*np.nan\n",
    "\n",
    "\n",
    "for i in range(std_ssta_cmip6_atl3_jja_11yr_window.shape[0]):\n",
    "    for j in range(std_ssta_cmip6_atl3_jja_11yr_window.shape[1]):\n",
    "        ssta_jja_cmip6 = ssta_atl3_hist_cmip6_1950_2014_jja[i,:].sel(time=slice(datetime(date_center_cmip6[j]-5, 1, 1),\n",
    "                                                     datetime(date_center_cmip6[j]+5, 12, 31)))\n",
    "        std_ssta_cmip6_atl3_jja_11yr_window[i,j] = ssta_jja_cmip6.std(dim='time')"
   ]
  },
  {
   "cell_type": "code",
   "execution_count": 26,
   "metadata": {},
   "outputs": [],
   "source": [
    "ens_obs = np.vstack((std_ssta_era5_atl3_mjj_11yr_window,\n",
    "                     std_ssta_hadi_atl3_mjj_11yr_window,\n",
    "                     std_ssta_ersst_atl3_mjj_11yr_window))"
   ]
  },
  {
   "cell_type": "markdown",
   "metadata": {},
   "source": [
    "# Figure "
   ]
  },
  {
   "cell_type": "code",
   "execution_count": 28,
   "metadata": {},
   "outputs": [
    {
     "data": {
      "image/png": "[encoded data removed]",
      "text/plain": [
       "<Figure size 720x360 with 2 Axes>"
      ]
     },
     "metadata": {
      "needs_background": "light"
     },
     "output_type": "display_data"
    }
   ],
   "source": [
    "f,ax = plt.subplots(1,1,figsize=[10,5])\n",
    "ftz=15\n",
    "#ax.plot(date_center_era5,std_ssta_hadi_atl3_mjj_11yr_window,\n",
    "#       color='orange',label='HadI-SST')\n",
    "#ax.plot(date_center_era5,std_ssta_era5_atl3_mjj_11yr_window,\n",
    "#        color='purple',label='ERA5')\n",
    "ax.plot(date_center_era5,np.mean(ens_obs,0),\n",
    "           color='black',linewidth=3,label='OBS ens')\n",
    "ax.plot(date_center_era5,np.mean(ens_obs,0)+np.std(ens_obs,0),\n",
    "           color='black')\n",
    "ax.plot(date_center_era5,np.mean(ens_obs,0)-np.std(ens_obs,0),\n",
    "           color='black')\n",
    "ax.fill_between(date_center_era5,np.mean(ens_obs,0),np.mean(ens_obs,0)+np.std(ens_obs,0),color='black',alpha=0.2)\n",
    "ax.fill_between(date_center_era5,np.mean(ens_obs,0),np.mean(ens_obs,0)-np.std(ens_obs,0),color='black',alpha=0.2)\n",
    "ax.plot(0,0,\n",
    "         color='blue',label='CMIP6 ens')\n",
    "ax.legend(fontsize=ftz)\n",
    "ax.set_title('11-year running standard deviation of the (MJJ) JJA ATL3 SST anomalies',fontsize=ftz)\n",
    "ax.tick_params(labelsize=ftz)\n",
    "ax.set_ylabel('std MJJ ATL3 SSTa ($^{\\circ}$C)',fontsize=ftz,color='black')\n",
    "ax.set_xlim(1950,2020)\n",
    "ax.set_ylim(0.2,0.85)\n",
    "ax1 = ax.twinx()\n",
    "ax1.plot(date_center_cmip6,np.mean(std_ssta_cmip6_atl3_jja_11yr_window,0),color='blue',linewidth=3)\n",
    "#ax1.plot(date_center_cmip6,np.mean(std_ssta_cmip6_atl3_jja_11yr_window,0)+\n",
    "#         np.std(std_ssta_cmip6_atl3_jja_11yr_window,0),color='black',linewidth=1)\n",
    "#ax1.plot(date_center_cmip6,np.mean(std_ssta_cmip6_atl3_jja_11yr_window,0)-\n",
    "#         np.std(std_ssta_cmip6_atl3_jja_11yr_window,0),color='black',linewidth=1)\n",
    "ax1.tick_params(labelsize=ftz,colors='blue')\n",
    "ax1.set_ylabel('std JJA ATL3 SSTa ($^{\\circ}$C)',fontsize=ftz,color='blue')\n",
    "\n",
    "plt.savefig(path_fig + 'figure_R0.png',\n",
    "            dpi = 300,\n",
    "            bbox_inches='tight')"
   ]
  },
  {
   "cell_type": "code",
   "execution_count": null,
   "metadata": {},
   "outputs": [],
   "source": []
  }
 ],
 "metadata": {
  "kernelspec": {
   "display_name": "Python 3 (ipykernel)",
   "language": "python",
   "name": "python3"
  },
  "language_info": {
   "codemirror_mode": {
    "name": "ipython",
    "version": 3
   },
   "file_extension": ".py",
   "mimetype": "text/x-python",
   "name": "python",
   "nbconvert_exporter": "python",
   "pygments_lexer": "ipython3",
   "version": "3.7.10"
  }
 },
 "nbformat": 4,
 "nbformat_minor": 4
}
