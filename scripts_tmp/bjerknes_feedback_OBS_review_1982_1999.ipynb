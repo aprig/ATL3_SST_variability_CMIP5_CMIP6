{
 "cells": [
  {
   "cell_type": "code",
   "execution_count": 1,
   "metadata": {},
   "outputs": [],
   "source": [
    "# Author : Arthur Prigent\n",
    "# Email: aprigent@geomar.de"
   ]
  },
  {
   "cell_type": "code",
   "execution_count": 2,
   "metadata": {},
   "outputs": [],
   "source": [
    "from load_librairies import *\n",
    "import xscale.signal.fitting as xsf\n",
    "\n",
    "dir_hist_sst = '/Volumes/Arthur_disk/Thesis_GEOMAR/Data/CMIP5/hist/tos/atl3/'\n",
    "dir_hist_uas = '/Volumes/Arthur_disk/Thesis_GEOMAR/Data/CMIP5/hist/uas/atl4/'\n",
    "\n",
    "dir_rcp8_sst = '/Volumes/Arthur_disk/Thesis_GEOMAR/Data/CMIP5/rcp85/tos/atl3/'\n",
    "dir_rcp8_uas = '/Volumes/Arthur_disk/Thesis_GEOMAR/Data/CMIP5/rcp85/uas/atl4/'\n",
    "\n",
    "\n",
    "path_fig = '/Users/aprigent/Documents/Thesis_GEOMAR/Projects/weakened_sst_variability_CMIP5/figures/'\n",
    "\n",
    "import warnings\n",
    "warnings.filterwarnings('ignore')\n",
    "\n",
    "\n",
    "lon_min = -20\n",
    "lon_max = 0\n",
    "lat_min = -3\n",
    "lat_max = 3\n",
    "\n",
    "period_str_1 = 1982\n",
    "period_end_2 = 1999\n",
    "\n",
    "def is_jja(month):\n",
    "    return (month >= 6) & (month <= 8)\n",
    "def is_mjj(month):\n",
    "    return (month >= 5) & (month <= 7)\n",
    "\n",
    "def nandetrend(y):\n",
    "    ''' Remove the linear trend from the data '''\n",
    "    x = np.arange(0,y.shape[0],1)\n",
    "    \n",
    "    not_nan_ind = ~np.isnan(y)\n",
    "    m, b, r_val, p_val, std_err = stats.linregress(x[not_nan_ind],np.array(y)[not_nan_ind])\n",
    "    \n",
    "    \n",
    "    y_detrended_tmp= np.array(y) - m*x\n",
    "    \n",
    "    y_detrended  = xr.Dataset({'detrended': (['time'],y_detrended_tmp)}\n",
    "                       ,coords={'time':y.time[:]})\n",
    "    return y_detrended"
   ]
  },
  {
   "cell_type": "markdown",
   "metadata": {},
   "source": [
    "# U wind"
   ]
  },
  {
   "cell_type": "code",
   "execution_count": 3,
   "metadata": {},
   "outputs": [],
   "source": [
    "uwnd = xr.open_dataset('/Users/aprigent/Documents/Thesis_GEOMAR/Data/ERA_INTERIM/ERA_interim_uv_1979_2018_1x1.nc')\n",
    "\n",
    "uwnd_12_tmp = uwnd.u10.sel(time = slice(datetime(period_str_1, 1, 1), datetime(period_end_2, 12, 31)))\n",
    "\n",
    "uwnd_12_tmp = xr.concat([uwnd_12_tmp[:, :, 180:], uwnd_12_tmp[:, :, :180]], dim='longitude')\n",
    "uwnd_12_tmp.coords['longitude'] = (uwnd_12_tmp.coords['longitude'] + 180) % 360 - 180\n",
    "\n",
    "uwnd_12 = uwnd_12_tmp.chunk(chunks=None)\n",
    "uwnd_12 = xsf.detrend(uwnd_12,dim='time',type='linear')\n",
    "\n",
    "uwnd_12_ano,_ = Atools.ano_norm_t(uwnd_12.load())\n",
    "\n"
   ]
  },
  {
   "cell_type": "code",
   "execution_count": 4,
   "metadata": {},
   "outputs": [],
   "source": [
    "\n",
    "\n",
    "uwnd_12_ano_Watl = uwnd_12_ano.where((uwnd_12_ano.longitude>=-40)&\n",
    "                                                         (uwnd_12_ano.longitude<=-20)&\n",
    "                                                         (uwnd_12_ano.latitude<=3)&\n",
    "                                                         (uwnd_12_ano.latitude>=-3),\n",
    "                                      drop=True).mean(dim='longitude').mean(dim='latitude')"
   ]
  },
  {
   "cell_type": "markdown",
   "metadata": {},
   "source": [
    "# Z20"
   ]
  },
  {
   "cell_type": "code",
   "execution_count": 5,
   "metadata": {},
   "outputs": [],
   "source": [
    "dir_data = '/Users/aprigent/Documents/Thesis_GEOMAR/Data/'\n",
    "data     = dir_data + 'ORA-S4/'\n",
    "\n",
    "\n",
    "file_sst = 'global_SST_ORA_S4_1958_2017_montlhy.nc'\n",
    "nc = xr.open_mfdataset(data+file_sst)\n",
    "lon_oras = np.arange(-60,20,1)\n",
    "lat_oras = np.arange(-30,30,1)\n",
    "time_oras = nc.TIME\n",
    "#sst_oras = nc.THETAO\n",
    "\n",
    "\n",
    "\n",
    "dir_data = '/Users/aprigent/Documents/Thesis_GEOMAR/Data/'\n",
    "data = dir_data + 'ORA-S4/'\n",
    "file = 'z20_depth_ORAS4_jan1958_dec_2017.nc'\n",
    "#nc   = Dataset(data+file)\n",
    "nc        = xr.open_mfdataset(data+file)\n",
    "z20_tmp = nc.Z20\n",
    "z20_tmp['time'] = np.array(time_oras)\n",
    "\n",
    "\n",
    "z20_tmp = z20_tmp.sel(time = slice(datetime(period_str_1, 1, 1), datetime(period_end_2, 12, 31)))\n",
    "\n",
    "#print(nc.variables.keys())\n",
    "## z23 data from jan 1958 to dec 2017.\n",
    "#z20_tmp = nc.variables['Z20'][:696,:,:] # taking the data from  jan 1958 to dec 2015 because of the wind data\n",
    "#nc.close()\n",
    "z20tmp_2=np.ones((np.shape(z20_tmp)))*np.nan\n",
    "#\n",
    "\n",
    "\n",
    "for i in range(z20tmp_2.shape[1]):\n",
    "    for j in range(z20tmp_2.shape[2]):\n",
    "        if np.isfinite(z20_tmp[:,i,j]).all()==True:\n",
    "            z20tmp_2[:,i,j] = sc.detrend(z20_tmp[:,i,j],type='linear')\n",
    "\n",
    "X,Y = np.meshgrid(lon_oras,lat_oras) \n",
    "#\n",
    "#\n",
    "z20  = xr.Dataset({'z20': (['time','y','x'],z20tmp_2)}\n",
    "                   ,coords={'time':np.array(z20_tmp.time),'lat':(['y','x'],np.array(Y)),'lon':(['y','x'],np.array(X))})\n",
    "\n",
    "\n"
   ]
  },
  {
   "cell_type": "code",
   "execution_count": 6,
   "metadata": {},
   "outputs": [],
   "source": [
    "z20_12 = z20.sel(time = slice(datetime(period_str_1, 1, 1), datetime(period_end_2, 12, 31)))\n",
    "\n",
    "z20_12_atl3 = z20_12.where((z20_12.lon>=-20)&\n",
    "                                                         (z20_12.lon<=0)&\n",
    "                                                         (z20_12.lat<=3)&\n",
    "                                                         (z20_12.lat>=-3),\n",
    "                                   drop=True).mean(dim='y').mean(dim='x')\n",
    "\n",
    "\n",
    "z20_12_atl4 = z20_12.where((z20_12.lon>=-40)&\n",
    "                                                         (z20_12.lon<=-20)&\n",
    "                                                         (z20_12.lat<=3)&\n",
    "                                                         (z20_12.lat>=-3),\n",
    "                                 drop=True).mean(dim='y').mean(dim='x')\n"
   ]
  },
  {
   "cell_type": "code",
   "execution_count": 7,
   "metadata": {},
   "outputs": [],
   "source": [
    "z20_12_ano_atl3,_ = Atools.ano_norm_t(z20_12_atl3.z20)"
   ]
  },
  {
   "cell_type": "code",
   "execution_count": 8,
   "metadata": {},
   "outputs": [],
   "source": [
    "thermo_slope_12 = z20_12_atl3.z20 - z20_12_atl4.z20"
   ]
  },
  {
   "cell_type": "code",
   "execution_count": 9,
   "metadata": {},
   "outputs": [],
   "source": [
    "thermo_slope_12_ano,_ = Atools.ano_norm_t(thermo_slope_12)"
   ]
  },
  {
   "cell_type": "markdown",
   "metadata": {},
   "source": [
    "# SST"
   ]
  },
  {
   "cell_type": "code",
   "execution_count": 10,
   "metadata": {},
   "outputs": [],
   "source": [
    "# 1981-2019\n",
    "## Load the data ##\n",
    "nc = xr.open_dataset('/Users/aprigent/Documents/Thesis_GEOMAR/Data/OI_SST_v2/oi.sst.v2.monmean.nc')\n",
    "sst_oiss = nc.sst[:]\n",
    "sst_oiss = xr.concat([sst_oiss[:, :, 720:], sst_oiss[:, :, :720]], dim='lon')\n",
    "sst_oiss.coords['lon'] = (sst_oiss.coords['lon'] + 180) % 360 - 180\n",
    "\n",
    "## Take the period 1982/01-2017/12 ##\n",
    "sst_oiss = sst_oiss.sel(time=slice(datetime(period_str_1, 1, 1), datetime(period_end_2, 12, 31)))\n",
    "\n",
    "## Detrend the data ##\n",
    "sst_oiss = sst_oiss.chunk(chunks=None)\n",
    "sst_oiss = xsf.detrend(sst_oiss,dim='time',type='linear')\n",
    "\n",
    "\n",
    "sst_oiss_atl3 = Atools.data_sub(sst_oiss,-20,0,-3,3).mean(dim='lon').mean(dim='lat')\n",
    "ssta_oiss_atl3,_ = Atools.ano_norm_t(sst_oiss_atl3.load())"
   ]
  },
  {
   "cell_type": "markdown",
   "metadata": {},
   "source": [
    "# take JJA anomalies"
   ]
  },
  {
   "cell_type": "code",
   "execution_count": 11,
   "metadata": {},
   "outputs": [],
   "source": [
    "sst_12_ano_atl3_jja = ssta_oiss_atl3.sel(time=is_jja(ssta_oiss_atl3['time.month']))\n",
    "uwnd_12_ano_Watl_jja =  uwnd_12_ano_Watl.sel(time=is_jja(uwnd_12_ano_Watl['time.month']))\n",
    "thermo_slope_12_jja = thermo_slope_12.sel(time=is_jja(thermo_slope_12['time.month']))\n",
    "z20_12_ano_atl3_jja  = z20_12_ano_atl3.sel(time=is_jja(z20_12_ano_atl3['time.month']))"
   ]
  },
  {
   "cell_type": "code",
   "execution_count": 12,
   "metadata": {},
   "outputs": [],
   "source": [
    "sst_12_ano_atl3_mjj = ssta_oiss_atl3.sel(time=is_mjj(ssta_oiss_atl3['time.month']))\n",
    "z20_12_ano_atl3_mjj  = z20_12_ano_atl3.sel(time=is_mjj(z20_12_ano_atl3['time.month']))"
   ]
  },
  {
   "cell_type": "markdown",
   "metadata": {},
   "source": [
    "# BF1"
   ]
  },
  {
   "cell_type": "code",
   "execution_count": 13,
   "metadata": {},
   "outputs": [],
   "source": [
    "alpha_12_bf1,_, r_alpha_12_bf1, p_value_12_bf1, std_12_bf1    = stats.linregress(\n",
    "                                                                       sst_12_ano_atl3_jja,\n",
    "                                                                       uwnd_12_ano_Watl_jja) "
   ]
  },
  {
   "cell_type": "code",
   "execution_count": 14,
   "metadata": {},
   "outputs": [
    {
     "name": "stdout",
     "output_type": "stream",
     "text": [
      "BF1 period 12: 0.61\n"
     ]
    }
   ],
   "source": [
    "print('BF1 period 12:', np.round(alpha_12_bf1,2))"
   ]
  },
  {
   "cell_type": "markdown",
   "metadata": {},
   "source": [
    "# BF2"
   ]
  },
  {
   "cell_type": "code",
   "execution_count": 15,
   "metadata": {},
   "outputs": [
    {
     "name": "stdout",
     "output_type": "stream",
     "text": [
      "BF2 period 12: 10.77\n"
     ]
    }
   ],
   "source": [
    "alpha_12_bf2,_, r_alpha_12_bf2, p_value_12_bf2, std_12_bf2    = stats.linregress(\n",
    "                                                                       uwnd_12_ano_Watl_jja,\n",
    "                                                                       thermo_slope_12_jja) \n",
    "print('BF2 period 12:', np.round(alpha_12_bf2,2))"
   ]
  },
  {
   "cell_type": "markdown",
   "metadata": {},
   "source": [
    "# BF3"
   ]
  },
  {
   "cell_type": "code",
   "execution_count": 16,
   "metadata": {},
   "outputs": [],
   "source": [
    "\n",
    "\n",
    "\n",
    "alpha_12_bf3,_,r_alpha_12_bf3,_,std_12_bf3    = stats.linregress(z20_12_ano_atl3_jja,\n",
    "                                                              sst_12_ano_atl3_jja) "
   ]
  },
  {
   "cell_type": "code",
   "execution_count": 17,
   "metadata": {},
   "outputs": [
    {
     "name": "stdout",
     "output_type": "stream",
     "text": [
      "BF3 period 12: 0.083\n"
     ]
    }
   ],
   "source": [
    "print('BF3 period 12:', np.round(alpha_12_bf3,3))\n"
   ]
  },
  {
   "cell_type": "markdown",
   "metadata": {},
   "source": [
    "# ORA-S4 SST"
   ]
  },
  {
   "cell_type": "code",
   "execution_count": 18,
   "metadata": {},
   "outputs": [
    {
     "name": "stdout",
     "output_type": "stream",
     "text": [
      "Loading the file : /Users/aprigent/Documents/Thesis_GEOMAR/Data/ORA-S4/global_SST_ORA_S4_1958_2017_montlhy.nc\n"
     ]
    }
   ],
   "source": [
    "data     = dir_data + 'ORA-S4/'\n",
    "file_sst = 'global_SST_ORA_S4_1958_2017_montlhy.nc'\n",
    "print('Loading the file :',data+file_sst)\n",
    "nc = xr.open_mfdataset(data+file_sst)\n",
    "\n",
    "\n",
    "SST_tmp= nc.THETAO[:,0,:,:]\n",
    "SST_tmp =SST_tmp.sel(TIME = slice(datetime(1958, 1, 1), datetime(2017, 12, 31)))\n",
    "tmp = xr.concat([SST_tmp[:,:,180:],SST_tmp[:,:,:180]],dim = 'LON') \n",
    "tmp.coords['LON'] = (tmp.coords['LON'] + 180)%360 - 180\n",
    "\n",
    "lon = tmp.LON[:]\n",
    "lat = tmp.LAT[:]\n",
    "time_oras = tmp.TIME[:]\n",
    "tmp = tmp.load()\n",
    "sst_oras_tmp = tmp\n",
    " \n",
    "\n",
    "\n",
    "\n",
    "sst_oras  = xr.Dataset({'sst': (['time','lat','lon'],sst_oras_tmp)}\n",
    "                   ,coords={'time':np.array(time_oras),'lat':(np.array(lat)),'lon':(np.array(lon))})\n"
   ]
  },
  {
   "cell_type": "code",
   "execution_count": 19,
   "metadata": {},
   "outputs": [],
   "source": [
    "sst_oras_12_tmp = sst_oras.sel(\n",
    "    time=slice(datetime(period_str_1, 1, 1), datetime(period_end_2, 12, 31)))\n",
    "sst_oras_12_test = sst_oras_12_tmp.sst.chunk(chunks=None)\n",
    "sst_oras_12 = xsf.detrend(sst_oras_12_test,dim='time',type='linear')\n",
    "\n",
    "sst_oras_12_ano, _ = Atools.ano_norm_t(sst_oras_12.load())\n",
    "\n",
    "sst_oras_12_ano_atl3 = Atools.data_sub(sst_oras_12_ano,-20,0,-3,3).mean(dim='lon').mean(dim='lat')"
   ]
  },
  {
   "cell_type": "code",
   "execution_count": 20,
   "metadata": {},
   "outputs": [],
   "source": [
    "sst_12_ano_atl3_jja = sst_oras_12_ano_atl3.sel(time=is_jja(sst_oras_12_ano_atl3['time.month']))\n",
    "z20_12_ano_atl3_jja  = z20_12_ano_atl3.sel(time=is_jja(z20_12_ano_atl3['time.month']))"
   ]
  },
  {
   "cell_type": "code",
   "execution_count": 21,
   "metadata": {},
   "outputs": [],
   "source": [
    "\n",
    "alpha_12_bf3,_,r_alpha_12_bf3,_,std_12_bf3    = stats.linregress(z20_12_ano_atl3_jja,\n",
    "                                                              sst_12_ano_atl3_jja) "
   ]
  },
  {
   "cell_type": "code",
   "execution_count": 23,
   "metadata": {},
   "outputs": [
    {
     "name": "stdout",
     "output_type": "stream",
     "text": [
      "BF3 JJA ORA-S4 0.09983830288402684\n"
     ]
    }
   ],
   "source": [
    "print('BF3 JJA ORA-S4',alpha_12_bf3)"
   ]
  },
  {
   "cell_type": "code",
   "execution_count": null,
   "metadata": {},
   "outputs": [],
   "source": []
  }
 ],
 "metadata": {
  "kernelspec": {
   "display_name": "Python 3 (ipykernel)",
   "language": "python",
   "name": "python3"
  },
  "language_info": {
   "codemirror_mode": {
    "name": "ipython",
    "version": 3
   },
   "file_extension": ".py",
   "mimetype": "text/x-python",
   "name": "python",
   "nbconvert_exporter": "python",
   "pygments_lexer": "ipython3",
   "version": "3.7.10"
  }
 },
 "nbformat": 4,
 "nbformat_minor": 2
}
