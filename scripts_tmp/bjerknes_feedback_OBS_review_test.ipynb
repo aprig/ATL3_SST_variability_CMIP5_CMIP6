{
 "cells": [
  {
   "cell_type": "code",
   "execution_count": 1,
   "metadata": {},
   "outputs": [],
   "source": [
    "# Author : Arthur Prigent\n",
    "# Email: aprigent@geomar.de"
   ]
  },
  {
   "cell_type": "code",
   "execution_count": 2,
   "metadata": {},
   "outputs": [],
   "source": [
    "from load_librairies import *\n",
    "import xscale.signal.fitting as xsf\n",
    "\n",
    "dir_hist_sst = '/Volumes/Arthur_disk/Thesis_GEOMAR/Data/CMIP5/hist/tos/atl3/'\n",
    "dir_hist_uas = '/Volumes/Arthur_disk/Thesis_GEOMAR/Data/CMIP5/hist/uas/atl4/'\n",
    "\n",
    "dir_rcp8_sst = '/Volumes/Arthur_disk/Thesis_GEOMAR/Data/CMIP5/rcp85/tos/atl3/'\n",
    "dir_rcp8_uas = '/Volumes/Arthur_disk/Thesis_GEOMAR/Data/CMIP5/rcp85/uas/atl4/'\n",
    "\n",
    "\n",
    "path_fig = '/Users/aprigent/Documents/Thesis_GEOMAR/Projects/weakened_sst_variability_CMIP5/figures/'\n",
    "\n",
    "import warnings\n",
    "warnings.filterwarnings('ignore')\n",
    "\n",
    "\n",
    "lon_min = -20\n",
    "lon_max = 0\n",
    "lat_min = -3\n",
    "lat_max = 3\n",
    "\n",
    "period_str_1 = 1982\n",
    "#period_end_1 = 1999\n",
    "\n",
    "#period_str_2 = 2000\n",
    "period_end_2 = 1999\n",
    "\n",
    "def is_jja(month):\n",
    "    return (month >= 6) & (month <= 8)\n",
    "def is_mjj(month):\n",
    "    return (month >= 5) & (month <= 7)\n",
    "\n",
    "def nandetrend(y):\n",
    "    ''' Remove the linear trend from the data '''\n",
    "    x = np.arange(0,y.shape[0],1)\n",
    "    \n",
    "    not_nan_ind = ~np.isnan(y)\n",
    "    m, b, r_val, p_val, std_err = stats.linregress(x[not_nan_ind],np.array(y)[not_nan_ind])\n",
    "    \n",
    "    \n",
    "    y_detrended_tmp= np.array(y) - m*x\n",
    "    \n",
    "    y_detrended  = xr.Dataset({'detrended': (['time'],y_detrended_tmp)}\n",
    "                       ,coords={'time':y.time[:]})\n",
    "    return y_detrended"
   ]
  },
  {
   "cell_type": "markdown",
   "metadata": {},
   "source": [
    "# U wind"
   ]
  },
  {
   "cell_type": "code",
   "execution_count": 3,
   "metadata": {},
   "outputs": [],
   "source": [
    "uwnd = xr.open_dataset('/Users/aprigent/Documents/Thesis_GEOMAR/Data/ERA_INTERIM/ERA_interim_uv_1979_2018_1x1.nc')\n",
    "\n",
    "uwnd_12_tmp = uwnd.u10.sel(time = slice(datetime(period_str_1, 1, 1), datetime(period_end_2, 12, 31)))\n",
    "\n",
    "uwnd_12_tmp = xr.concat([uwnd_12_tmp[:, :, 180:], uwnd_12_tmp[:, :, :180]], dim='longitude')\n",
    "uwnd_12_tmp.coords['longitude'] = (uwnd_12_tmp.coords['longitude'] + 180) % 360 - 180\n",
    "\n",
    "uwnd_12 = uwnd_12_tmp.chunk(chunks=None)\n",
    "uwnd_12 = xsf.detrend(uwnd_12,dim='time',type='linear')\n",
    "\n",
    "uwnd_12_ano,_ = Atools.ano_norm_t(uwnd_12.load())\n",
    "\n"
   ]
  },
  {
   "cell_type": "code",
   "execution_count": 4,
   "metadata": {},
   "outputs": [],
   "source": [
    "\n",
    "\n",
    "uwnd_12_ano_Watl = uwnd_12_ano.where((uwnd_12_ano.longitude>=-40)&\n",
    "                                                         (uwnd_12_ano.longitude<=-20)&\n",
    "                                                         (uwnd_12_ano.latitude<=3)&\n",
    "                                                         (uwnd_12_ano.latitude>=-3),\n",
    "                                      drop=True).mean(dim='longitude').mean(dim='latitude')\n",
    "\n",
    "\n"
   ]
  },
  {
   "cell_type": "markdown",
   "metadata": {},
   "source": [
    "# Z23"
   ]
  },
  {
   "cell_type": "code",
   "execution_count": 5,
   "metadata": {},
   "outputs": [],
   "source": [
    "\n",
    "dir_data = '/Users/aprigent/Documents/Thesis_GEOMAR/Data/'\n",
    "data     = dir_data + 'ORA-S4/'\n",
    "\n",
    "\n",
    "file_sst = 'global_SST_ORA_S4_1958_2017_montlhy.nc'\n",
    "nc = xr.open_mfdataset(data+file_sst)\n",
    "lon_oras = np.arange(-60,20,1)\n",
    "lat_oras = np.arange(-30,30,1)\n",
    "time_oras = nc.TIME\n",
    "#sst_oras = nc.THETAO\n",
    "\n",
    "\n",
    "dir_data = '/Users/aprigent/Documents/Thesis_GEOMAR/Data/'\n",
    "data = dir_data + 'ORA-S4/'\n",
    "file = 'z23_depth_ORAS4_1958_2017_1x1.nc'\n",
    "#nc   = Dataset(data+file)\n",
    "\n",
    "nc= xr.open_mfdataset(data+file)\n",
    "z23_tmp = nc.z23.sel(time = slice(datetime(period_str_1, 1, 1), datetime(period_end_2, 12, 31)))\n",
    "\n",
    "z23tmp_2=np.ones((np.shape(z23_tmp)))*np.nan\n",
    "\n",
    "\n",
    "\n",
    "for i in range(z23tmp_2.shape[1]):\n",
    "    for j in range(z23tmp_2.shape[2]):\n",
    "        if np.isfinite(z23_tmp[:,i,j]).all()==True:\n",
    "            z23tmp_2[:,i,j] = sc.detrend(z23_tmp[:,i,j],type='linear')\n",
    "\n",
    "X,Y = np.meshgrid(lon_oras,lat_oras) \n",
    "#\n",
    "#\n",
    "z23_12  = xr.Dataset({'z23': (['time','y','x'],z23tmp_2)}\n",
    "                   ,coords={'time':np.array(z23_tmp.time),'lat':(['y','x'],np.array(Y)),'lon':(['y','x'],np.array(X))})\n",
    "\n"
   ]
  },
  {
   "cell_type": "code",
   "execution_count": 6,
   "metadata": {},
   "outputs": [],
   "source": [
    "z23_12_ano,_ = Atools.ano_norm_t(z23_12.z23.load())\n",
    "\n",
    "\n",
    "\n",
    "z23_12_ano_atl3 = z23_12_ano.where((z23_12_ano.lon>=-20)&\n",
    "                                                         (z23_12_ano.lon<=0)&\n",
    "                                                         (z23_12_ano.lat<=3)&\n",
    "                                                         (z23_12_ano.lat>=-3),\n",
    "                                   drop=True).mean(dim='y').mean(dim='x')\n",
    "\n",
    "z23_12_ano_atl4 = z23_12_ano.where((z23_12_ano.lon>=-40)&\n",
    "                                                         (z23_12_ano.lon<=-20)&\n",
    "                                                         (z23_12_ano.lat<=3)&\n",
    "                                                         (z23_12_ano.lat>=-3),\n",
    "                                 drop=True).mean(dim='y').mean(dim='x')\n"
   ]
  },
  {
   "cell_type": "code",
   "execution_count": 7,
   "metadata": {},
   "outputs": [],
   "source": [
    "thermo_slope_z23_12 = z23_12_ano_atl3 - z23_12_ano_atl4"
   ]
  },
  {
   "cell_type": "markdown",
   "metadata": {},
   "source": [
    "# SST"
   ]
  },
  {
   "cell_type": "code",
   "execution_count": 16,
   "metadata": {},
   "outputs": [
    {
     "name": "stdout",
     "output_type": "stream",
     "text": [
      "Loading the file : /Users/aprigent/Documents/Thesis_GEOMAR/Data/ORA-S4/global_SST_ORA_S4_1958_2017_montlhy.nc\n"
     ]
    }
   ],
   "source": [
    "data     = dir_data + 'ORA-S4/'\n",
    "file_sst = 'global_SST_ORA_S4_1958_2017_montlhy.nc'\n",
    "print('Loading the file :',data+file_sst)\n",
    "nc = xr.open_mfdataset(data+file_sst)\n",
    "\n",
    "\n",
    "SST_tmp= nc.THETAO[:,0,:,:]\n",
    "SST_tmp =SST_tmp.sel(TIME = slice(datetime(1958, 1, 1), datetime(2017, 12, 31)))\n",
    "tmp = xr.concat([SST_tmp[:,:,180:],SST_tmp[:,:,:180]],dim = 'LON') \n",
    "tmp.coords['LON'] = (tmp.coords['LON'] + 180)%360 - 180\n",
    "\n",
    "lon = tmp.LON[:]\n",
    "lat = tmp.LAT[:]\n",
    "time_oras = tmp.TIME[:]\n",
    "tmp = tmp.load()\n",
    "sst_oras_tmp = tmp\n",
    " \n",
    "\n",
    "\n",
    "\n",
    "sst_oras  = xr.Dataset({'sst': (['time','lat','lon'],sst_oras_tmp)}\n",
    "                   ,coords={'time':np.array(time_oras),'lat':(np.array(lat)),'lon':(np.array(lon))})\n",
    "sst_oras_12_tmp = sst_oras.sel(\n",
    "    time=slice(datetime(period_str_1, 1, 1), datetime(period_end_2, 12, 31)))\n",
    "sst_oras_12_test = sst_oras_12_tmp.sst.chunk(chunks=None)\n",
    "sst_oras_12 = xsf.detrend(sst_oras_12_test,dim='time',type='linear')\n",
    "\n",
    "sst_oras_12_ano, _ = Atools.ano_norm_t(sst_oras_12.load())\n",
    "\n",
    "sst_oras_12_ano_atl3 = Atools.data_sub(sst_oras_12_ano,-20,0,-3,3).mean(dim='lon').mean(dim='lat')"
   ]
  },
  {
   "cell_type": "markdown",
   "metadata": {},
   "source": [
    "# take JJA anomalies"
   ]
  },
  {
   "cell_type": "code",
   "execution_count": 17,
   "metadata": {},
   "outputs": [],
   "source": [
    "sst_12_ano_atl3_jja = sst_oras_12_ano_atl3.sel(time=is_jja(sst_oras_12_ano_atl3['time.month']))\n",
    "uwnd_12_ano_Watl_jja =  uwnd_12_ano_Watl.sel(time=is_jja(uwnd_12_ano_Watl['time.month']))\n",
    "thermo_slope_z23_12_jja = thermo_slope_z23_12.sel(time=is_jja(thermo_slope_z23_12['time.month']))\n",
    "z23_12_ano_atl3_jja  = z23_12_ano_atl3.sel(time=is_jja(z23_12_ano_atl3['time.month']))"
   ]
  },
  {
   "cell_type": "code",
   "execution_count": 18,
   "metadata": {},
   "outputs": [],
   "source": [
    "sst_12_ano_atl3_mjj = sst_oras_12_ano_atl3.sel(time=is_mjj(sst_oras_12_ano_atl3['time.month']))\n",
    "z23_12_ano_atl3_mjj  = z23_12_ano_atl3.sel(time=is_mjj(z23_12_ano_atl3['time.month']))"
   ]
  },
  {
   "cell_type": "markdown",
   "metadata": {},
   "source": [
    "# BF1"
   ]
  },
  {
   "cell_type": "code",
   "execution_count": 19,
   "metadata": {},
   "outputs": [],
   "source": [
    "\n",
    "\n",
    "alpha_12_bf1,_, r_alpha_12_bf1, p_value_12_bf1, std_12_bf1    = stats.linregress(\n",
    "                                                                       sst_12_ano_atl3_jja,\n",
    "                                                                       uwnd_12_ano_Watl_jja) "
   ]
  },
  {
   "cell_type": "code",
   "execution_count": 20,
   "metadata": {},
   "outputs": [
    {
     "name": "stdout",
     "output_type": "stream",
     "text": [
      "BF1 period 12: 0.59\n"
     ]
    }
   ],
   "source": [
    "\n",
    "\n",
    "print('BF1 period 12:', np.round(alpha_12_bf1,2))"
   ]
  },
  {
   "cell_type": "markdown",
   "metadata": {},
   "source": [
    "# BF2"
   ]
  },
  {
   "cell_type": "code",
   "execution_count": 21,
   "metadata": {},
   "outputs": [
    {
     "name": "stdout",
     "output_type": "stream",
     "text": [
      "BF2 period 12 z23: 8.11\n"
     ]
    }
   ],
   "source": [
    "alpha_12_bf2_z23,_, r_alpha_12_bf2_z23, p_value_12_bf2_z23, std_12_bf2_z23    = stats.linregress(\n",
    "                                                                       uwnd_12_ano_Watl_jja,\n",
    "                                                                       thermo_slope_z23_12_jja) \n",
    "print('BF2 period 12 z23:', np.round(alpha_12_bf2_z23,2))"
   ]
  },
  {
   "cell_type": "markdown",
   "metadata": {},
   "source": [
    "# BF3"
   ]
  },
  {
   "cell_type": "code",
   "execution_count": 22,
   "metadata": {},
   "outputs": [],
   "source": [
    "alpha_12_bf3_jja_z23,_,r_alpha_12_bf3_jja_z23,_,std_12_bf3_jja_z23    = stats.linregress(z23_12_ano_atl3_jja,\n",
    "                                                              sst_12_ano_atl3_jja) "
   ]
  },
  {
   "cell_type": "code",
   "execution_count": 23,
   "metadata": {},
   "outputs": [
    {
     "name": "stdout",
     "output_type": "stream",
     "text": [
      "BF3 period 12 mjj z23: 0.132\n"
     ]
    }
   ],
   "source": [
    "print('BF3 period 12 mjj z23:', np.round(alpha_12_bf3_jja_z23,3))"
   ]
  },
  {
   "cell_type": "code",
   "execution_count": null,
   "metadata": {},
   "outputs": [],
   "source": []
  },
  {
   "cell_type": "code",
   "execution_count": null,
   "metadata": {},
   "outputs": [],
   "source": []
  }
 ],
 "metadata": {
  "kernelspec": {
   "display_name": "Python 3 (ipykernel)",
   "language": "python",
   "name": "python3"
  },
  "language_info": {
   "codemirror_mode": {
    "name": "ipython",
    "version": 3
   },
   "file_extension": ".py",
   "mimetype": "text/x-python",
   "name": "python",
   "nbconvert_exporter": "python",
   "pygments_lexer": "ipython3",
   "version": "3.7.10"
  }
 },
 "nbformat": 4,
 "nbformat_minor": 2
}
