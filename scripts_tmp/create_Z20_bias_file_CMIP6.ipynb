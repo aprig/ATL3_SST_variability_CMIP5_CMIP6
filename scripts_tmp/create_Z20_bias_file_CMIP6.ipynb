{
 "cells": [
  {
   "cell_type": "code",
   "execution_count": 1,
   "id": "096ba3e0",
   "metadata": {},
   "outputs": [],
   "source": [
    "from load_librairies import *\n",
    "import xscale.signal.fitting as xsf\n",
    "import seaborn as sns\n",
    "from sklearn import linear_model\n",
    "\n",
    "def is_jja(month):\n",
    "    return (month >= 6) & (month <= 8)\n",
    "\n",
    "def is_amj(month):\n",
    "    return (month >= 4) & (month <= 6)\n",
    "\n",
    "def is_mjj(month):\n",
    "    return (month >= 5) & (month <= 7)\n",
    "\n",
    "\n",
    "now = datetime.now()\n",
    "date_time = now.strftime(\"%d/%m/%Y\")\n",
    "def nandetrend(y):\n",
    "    ''' Remove the linear trend from the data '''\n",
    "    x = np.arange(0,y.shape[0],1)\n",
    "    \n",
    "    not_nan_ind = ~np.isnan(y)\n",
    "    m, b, r_val, p_val, std_err = stats.linregress(x[not_nan_ind],np.array(y)[not_nan_ind])\n",
    "    \n",
    "    \n",
    "    y_detrended= np.array(y) - m*x\n",
    "    \n",
    "    return y_detrended\n",
    "\n",
    "\n",
    "\n",
    "def nandetrend2(y):\n",
    "    ''' Remove the linear trend from the data '''\n",
    "    x = np.arange(0,y.shape[0],1)\n",
    "    \n",
    "    not_nan_ind = ~np.isnan(y)\n",
    "    m, b, r_val, p_val, std_err = stats.linregress(x[not_nan_ind],np.array(y)[not_nan_ind])\n",
    "    \n",
    "    \n",
    "    y_detrended_tmp= np.array(y) - m*x\n",
    "    \n",
    "    y_detrended  = xr.Dataset({'detrended': (['time'],y_detrended_tmp)}\n",
    "                       ,coords={'time':y.time[:]})\n",
    "    return y_detrended\n",
    "\n",
    "######################\n",
    "#      TO CHANGE     # \n",
    "######################\n",
    "dir_hist_z23 = '/Volumes/Arthur_disk2/Data/CMIP6/Omon/historical/z20/atl3/'\n",
    "path_fig = '/Users/aprigent/Documents/Thesis_GEOMAR/Projects/weakened_sst_variability_CMIP5/figures/new_version/reviews/'\n",
    "path_data = '/Users/aprigent/Documents/Thesis_GEOMAR/Projects/weakened_sst_variability_CMIP5/scripts/new_version/to_publish/data/'"
   ]
  },
  {
   "cell_type": "code",
   "execution_count": 2,
   "id": "1cb17cf9",
   "metadata": {},
   "outputs": [],
   "source": [
    "model =  ['ACCESS-CM2',  'ACCESS-ESM1-5', 'BCC-CSM2-MR',  'CAMS-CSM1-0', 'CanESM5', 'EC-Earth3',\n",
    "  'EC-Earth3-Veg','GFDL-ESM4', 'INM-CM4-8', 'INM-CM5-0',  'IPSL-CM6A-LR', 'MIROC6',\n",
    "  'MPI-ESM1-2-HR', 'MPI-ESM1-2-LR', 'MRI-ESM2-0', 'NESM3']"
   ]
  },
  {
   "cell_type": "markdown",
   "id": "b334bedb",
   "metadata": {},
   "source": [
    "##  Thermocline depth bias SST in JJA in the ATL3"
   ]
  },
  {
   "cell_type": "code",
   "execution_count": 3,
   "id": "b500b5a6",
   "metadata": {},
   "outputs": [],
   "source": [
    "\n",
    "\n",
    "dir_data = '/Users/aprigent/Documents/Thesis_GEOMAR/Data/'\n",
    "data     = dir_data + 'ORA-S4/'\n",
    "\n",
    "\n",
    "file_sst = 'global_SST_ORA_S4_1958_2017_montlhy.nc'\n",
    "nc = xr.open_mfdataset(data+file_sst)\n",
    "lon_oras = np.arange(-60,20,1)\n",
    "lat_oras = np.arange(-30,30,1)\n",
    "time_oras = nc.TIME\n",
    "#sst_oras = nc.THETAO\n",
    "\n",
    "\n",
    "\n",
    "dir_data = '/Users/aprigent/Documents/Thesis_GEOMAR/Data/'\n",
    "data = dir_data + 'ORA-S4/'\n",
    "file = 'z20_depth_ORAS4_jan1958_dec_2017.nc'\n",
    "#nc   = Dataset(data+file)\n",
    "nc        = xr.open_mfdataset(data+file)\n",
    "z20_tmp = nc.Z20\n",
    "\n",
    "#print(nc.variables.keys())\n",
    "## z23 data from jan 1958 to dec 2017.\n",
    "#z20_tmp = nc.variables['Z20'][:696,:,:] # taking the data from  jan 1958 to dec 2015 because of the wind data\n",
    "#nc.close()\n",
    "z20tmp_2=np.ones((np.shape(z20_tmp)))*np.nan\n",
    "#\n",
    "\n",
    "\n",
    "for i in range(z20tmp_2.shape[1]):\n",
    "    for j in range(z20tmp_2.shape[2]):\n",
    "        if np.isfinite(z20_tmp[:,i,j]).all()==True:\n",
    "            z20tmp_2[:,i,j] = nandetrend(z20_tmp[:,i,j])\n",
    "\n",
    "X,Y = np.meshgrid(lon_oras,lat_oras) \n",
    "#\n",
    "#\n",
    "z20  = xr.Dataset({'z20': (['time','y','x'],z20tmp_2)}\n",
    "                   ,coords={'time':np.array(time_oras),'lat':(['y','x'],np.array(Y)),'lon':(['y','x'],np.array(X))})\n",
    "\n",
    "\n"
   ]
  },
  {
   "cell_type": "code",
   "execution_count": 4,
   "id": "a464ab5f",
   "metadata": {},
   "outputs": [],
   "source": [
    "\n",
    "\n",
    "period_1_str = 1982\n",
    "period_1_end = 2017\n",
    "\n",
    "z20_atl3 = Atools.data_sub(z20,-20,0,-3,3).mean(dim='x').mean(dim='y')\n",
    "z20_atl3 = z20_atl3.sel(time=slice(datetime(period_1_str, 1, 1),\n",
    "                                               datetime(period_1_end, 12, 31)))\n",
    "z20_atl3_mean_ORAS4 = z20_atl3.z20.mean(dim='time')\n",
    "z20_atl3_jja_ORAS4 = z20_atl3.z20.sel(time=is_jja(z20_atl3['time.month'])).mean(dim='time')\n"
   ]
  },
  {
   "cell_type": "code",
   "execution_count": 5,
   "id": "551a2879",
   "metadata": {},
   "outputs": [
    {
     "name": "stdout",
     "output_type": "stream",
     "text": [
      "ACCESS-CM2\n",
      "ACCESS-ESM1-5\n",
      "BCC-CSM2-MR\n",
      "CAMS-CSM1-0\n",
      "CanESM5\n",
      "EC-Earth3\n",
      "EC-Earth3-Veg\n",
      "GFDL-ESM4\n"
     ]
    },
    {
     "name": "stderr",
     "output_type": "stream",
     "text": [
      "/Users/aprigent/miniconda3/envs/py3_std/lib/python3.7/site-packages/ipykernel_launcher.py:18: RuntimeWarning: Converting a CFTimeIndex with dates from a non-standard calendar, 'noleap', to a pandas.DatetimeIndex, which uses dates from the standard calendar.  This may lead to subtle errors in operations that depend on the length of time between dates.\n",
      "/Users/aprigent/miniconda3/envs/py3_std/lib/python3.7/site-packages/ipykernel_launcher.py:18: RuntimeWarning: Converting a CFTimeIndex with dates from a non-standard calendar, 'noleap', to a pandas.DatetimeIndex, which uses dates from the standard calendar.  This may lead to subtle errors in operations that depend on the length of time between dates.\n",
      "/Users/aprigent/miniconda3/envs/py3_std/lib/python3.7/site-packages/ipykernel_launcher.py:18: RuntimeWarning: Converting a CFTimeIndex with dates from a non-standard calendar, 'noleap', to a pandas.DatetimeIndex, which uses dates from the standard calendar.  This may lead to subtle errors in operations that depend on the length of time between dates.\n",
      "/Users/aprigent/miniconda3/envs/py3_std/lib/python3.7/site-packages/ipykernel_launcher.py:18: RuntimeWarning: Converting a CFTimeIndex with dates from a non-standard calendar, 'noleap', to a pandas.DatetimeIndex, which uses dates from the standard calendar.  This may lead to subtle errors in operations that depend on the length of time between dates.\n",
      "/Users/aprigent/miniconda3/envs/py3_std/lib/python3.7/site-packages/ipykernel_launcher.py:18: RuntimeWarning: Converting a CFTimeIndex with dates from a non-standard calendar, 'noleap', to a pandas.DatetimeIndex, which uses dates from the standard calendar.  This may lead to subtle errors in operations that depend on the length of time between dates.\n"
     ]
    },
    {
     "name": "stdout",
     "output_type": "stream",
     "text": [
      "INM-CM4-8\n",
      "INM-CM5-0\n",
      "IPSL-CM6A-LR\n",
      "MIROC6\n",
      "MPI-ESM1-2-HR\n",
      "MPI-ESM1-2-LR\n",
      "MRI-ESM2-0\n",
      "NESM3\n"
     ]
    },
    {
     "name": "stderr",
     "output_type": "stream",
     "text": [
      "/Users/aprigent/miniconda3/envs/py3_std/lib/python3.7/site-packages/ipykernel_launcher.py:18: RuntimeWarning: Converting a CFTimeIndex with dates from a non-standard calendar, 'noleap', to a pandas.DatetimeIndex, which uses dates from the standard calendar.  This may lead to subtle errors in operations that depend on the length of time between dates.\n",
      "/Users/aprigent/miniconda3/envs/py3_std/lib/python3.7/site-packages/ipykernel_launcher.py:18: RuntimeWarning: Converting a CFTimeIndex with dates from a non-standard calendar, 'noleap', to a pandas.DatetimeIndex, which uses dates from the standard calendar.  This may lead to subtle errors in operations that depend on the length of time between dates.\n"
     ]
    }
   ],
   "source": [
    "\n",
    "period_str_1 = 1950\n",
    "period_end_1 = 1999\n",
    "z20_bias_jja = np.ones((len(model)))\n",
    "z20_bias = np.ones((len(model)))\n",
    "\n",
    "\n",
    "\n",
    "\n",
    "for i in range(0,len(model)):\n",
    "    print(model[i])\n",
    "    \n",
    "    z20 = xr.open_dataset(dir_hist_z23+'z20_Omon_'+model[i]+'_historical_r1i1p1f1_187001-201412_1deg_atl3.nc')\n",
    "    \n",
    "    try:\n",
    "\n",
    "        z20 = z20.sel(time=slice(datetime(period_str_1, 1, 1), datetime(period_end_1, 12, 31)))\n",
    "    except TypeError:\n",
    "        z20['time'] = z20.indexes['time'].to_datetimeindex()\n",
    "        z20 = z20.sel(time=slice(datetime(period_str_1, 1, 1), datetime(period_end_1, 12, 31)))\n",
    "        \n",
    "    z20 = z20.z20  \n",
    "    z20 = z20.mean(dim='lon').mean(dim='lat')\n",
    "    z20_dtd = nandetrend2(z20)\n",
    "    z20_dtd_mean = z20_dtd.detrended.mean(dim='time')\n",
    "    z20_dtd_jja_mean = z20_dtd.detrended.sel(time=is_jja(z20_dtd.detrended['time.month'])).mean(dim='time')\n",
    "    \n",
    "    z20_bias_jja[i] = z20_dtd_jja_mean - z20_atl3_jja_ORAS4\n",
    "    z20_bias[i] = z20_dtd_mean- z20_atl3_mean_ORAS4"
   ]
  },
  {
   "cell_type": "code",
   "execution_count": 6,
   "id": "c714fdb9",
   "metadata": {},
   "outputs": [],
   "source": [
    "bias_jja_cmip6  = xr.Dataset({'bias': (['product'],z20_bias_jja),\n",
    "                       }\n",
    "                       ,coords={'product':model},attrs={'standard_name': 'JJA ORAS4 bias',\n",
    "                                    'long_name': 'JJA SST bias relative to ORAS4 1982-2017',\n",
    "                                    'units': 'm',\n",
    "                                    'model': 'CMIP5',\n",
    "                                    'Scenario': 'SSP585',\n",
    "                                    'Creation_date':date_time,   \n",
    "                                    'author': 'Arthur Prigent'})\n",
    "\n",
    "bias_cmip6  = xr.Dataset({'bias': (['product'],z20_bias),\n",
    "                       }\n",
    "                       ,coords={'product':model},attrs={'standard_name': 'Z20 bias',\n",
    "                                    'long_name': 'SST bias relative to ORAS4 1982-2017',\n",
    "                                    'units': 'm',\n",
    "                                    'model': 'CMIP6',\n",
    "                                    'Scenario': 'SSP585',\n",
    "                                    'Creation_date':date_time,   \n",
    "                                    'author': 'Arthur Prigent'})\n"
   ]
  },
  {
   "cell_type": "code",
   "execution_count": 7,
   "id": "034e3ec9",
   "metadata": {},
   "outputs": [],
   "source": [
    "\n",
    "bias_jja_cmip6.to_netcdf(path_data+'z20_bias_atl3_CMIP6_jja_dtd_19822017.nc')\n",
    "bias_cmip6.to_netcdf(path_data+'z20_bias_atl3_CMIP6_dtd_1982_2017.nc')"
   ]
  },
  {
   "cell_type": "code",
   "execution_count": null,
   "id": "1620da35",
   "metadata": {},
   "outputs": [],
   "source": []
  }
 ],
 "metadata": {
  "kernelspec": {
   "display_name": "Python 3 (ipykernel)",
   "language": "python",
   "name": "python3"
  },
  "language_info": {
   "codemirror_mode": {
    "name": "ipython",
    "version": 3
   },
   "file_extension": ".py",
   "mimetype": "text/x-python",
   "name": "python",
   "nbconvert_exporter": "python",
   "pygments_lexer": "ipython3",
   "version": "3.7.10"
  }
 },
 "nbformat": 4,
 "nbformat_minor": 5
}
