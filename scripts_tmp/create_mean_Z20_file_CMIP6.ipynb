{
 "cells": [
  {
   "cell_type": "code",
   "execution_count": 1,
   "metadata": {},
   "outputs": [],
   "source": [
    "# Author : Arthur Prigent\n",
    "# Email: aprigent@geomar.de"
   ]
  },
  {
   "cell_type": "code",
   "execution_count": 1,
   "metadata": {},
   "outputs": [],
   "source": [
    "from load_librairies import *\n",
    "import xscale.signal.fitting as xsf\n",
    "\n",
    "\n",
    "dir_hist_z23 = '/Volumes/Arthur_disk2/Data/CMIP6/Omon/historical/z20/atl3/'\n",
    "dir_rcp8_z23 = '/Volumes/Arthur_disk2/Data/CMIP6/Omon/ssp585/z20/atl3/'\n",
    "path_fig = '/Users/aprigent/Documents/Thesis_GEOMAR/Projects/weakened_sst_variability_CMIP5/figures/'\n",
    "lon_min = -20\n",
    "lon_max = 0\n",
    "lat_min = -3\n",
    "lat_max = 3\n",
    "\n",
    "period_str_1 = 1950\n",
    "period_end_1 = 1999\n",
    "\n",
    "period_str_2 = 2050\n",
    "period_end_2 = 2099\n",
    "\n",
    "def nandetrend(y):\n",
    "    ''' Remove the linear trend from the data '''\n",
    "    x = np.arange(0,y.shape[0],1)\n",
    "    \n",
    "    not_nan_ind = ~np.isnan(y)\n",
    "    m, b, r_val, p_val, std_err = stats.linregress(x[not_nan_ind],np.array(y)[not_nan_ind])\n",
    "    \n",
    "    \n",
    "    y_detrended_tmp= np.array(y) - m*x\n",
    "    \n",
    "    y_detrended  = xr.Dataset({'detrended': (['time'],y_detrended_tmp)}\n",
    "                       ,coords={'time':y.time[:]})\n",
    "    return y_detrended\n",
    "\n",
    "def is_jja(month):\n",
    "    return (month >= 6) & (month <= 8)\n",
    "now = datetime.now()\n",
    "date_time = now.strftime(\"%d/%m/%Y\")\n",
    "\n",
    "path_data = '/Users/aprigent/Documents/Thesis_GEOMAR/Projects/weakened_sst_variability_CMIP5/scripts/new_version/to_publish/data/'"
   ]
  },
  {
   "cell_type": "code",
   "execution_count": 4,
   "metadata": {},
   "outputs": [],
   "source": [
    "\n",
    "model =  ['ACCESS-CM2',  'ACCESS-ESM1-5', 'BCC-CSM2-MR',  'CAMS-CSM1-0', 'CanESM5', 'EC-Earth3',\n",
    "  'EC-Earth3-Veg','GFDL-ESM4', 'INM-CM4-8', 'INM-CM5-0',  'IPSL-CM6A-LR', 'MIROC6',\n",
    "  'MPI-ESM1-2-HR', 'MPI-ESM1-2-LR', 'MRI-ESM2-0', 'NESM3']"
   ]
  },
  {
   "cell_type": "markdown",
   "metadata": {},
   "source": [
    "# Historical"
   ]
  },
  {
   "cell_type": "code",
   "execution_count": 5,
   "metadata": {
    "scrolled": true
   },
   "outputs": [
    {
     "name": "stdout",
     "output_type": "stream",
     "text": [
      "ACCESS-CM2\n",
      "ACCESS-ESM1-5\n",
      "BCC-CSM2-MR\n",
      "CAMS-CSM1-0\n",
      "CanESM5\n"
     ]
    },
    {
     "name": "stderr",
     "output_type": "stream",
     "text": [
      "/Users/aprigent/miniconda3/envs/py3_std/lib/python3.7/site-packages/xarray/core/dataset.py:2039: FutureWarning: None value for 'chunks' is deprecated. It will raise an error in the future. Use instead '{}'\n",
      "  category=FutureWarning,\n",
      "/Users/aprigent/miniconda3/envs/py3_std/lib/python3.7/site-packages/xarray/core/dataset.py:2039: FutureWarning: None value for 'chunks' is deprecated. It will raise an error in the future. Use instead '{}'\n",
      "  category=FutureWarning,\n",
      "/Users/aprigent/miniconda3/envs/py3_std/lib/python3.7/site-packages/ipykernel_launcher.py:16: RuntimeWarning: Converting a CFTimeIndex with dates from a non-standard calendar, 'noleap', to a pandas.DatetimeIndex, which uses dates from the standard calendar.  This may lead to subtle errors in operations that depend on the length of time between dates.\n",
      "  app.launch_new_instance()\n",
      "/Users/aprigent/miniconda3/envs/py3_std/lib/python3.7/site-packages/xarray/core/dataset.py:2039: FutureWarning: None value for 'chunks' is deprecated. It will raise an error in the future. Use instead '{}'\n",
      "  category=FutureWarning,\n",
      "/Users/aprigent/miniconda3/envs/py3_std/lib/python3.7/site-packages/ipykernel_launcher.py:16: RuntimeWarning: Converting a CFTimeIndex with dates from a non-standard calendar, 'noleap', to a pandas.DatetimeIndex, which uses dates from the standard calendar.  This may lead to subtle errors in operations that depend on the length of time between dates.\n",
      "  app.launch_new_instance()\n",
      "/Users/aprigent/miniconda3/envs/py3_std/lib/python3.7/site-packages/xarray/core/dataset.py:2039: FutureWarning: None value for 'chunks' is deprecated. It will raise an error in the future. Use instead '{}'\n",
      "  category=FutureWarning,\n",
      "/Users/aprigent/miniconda3/envs/py3_std/lib/python3.7/site-packages/ipykernel_launcher.py:16: RuntimeWarning: Converting a CFTimeIndex with dates from a non-standard calendar, 'noleap', to a pandas.DatetimeIndex, which uses dates from the standard calendar.  This may lead to subtle errors in operations that depend on the length of time between dates.\n",
      "  app.launch_new_instance()\n",
      "/Users/aprigent/miniconda3/envs/py3_std/lib/python3.7/site-packages/xarray/core/dataset.py:2039: FutureWarning: None value for 'chunks' is deprecated. It will raise an error in the future. Use instead '{}'\n",
      "  category=FutureWarning,\n"
     ]
    },
    {
     "name": "stdout",
     "output_type": "stream",
     "text": [
      "EC-Earth3\n",
      "EC-Earth3-Veg\n",
      "GFDL-ESM4\n",
      "INM-CM4-8\n",
      "INM-CM5-0\n"
     ]
    },
    {
     "name": "stderr",
     "output_type": "stream",
     "text": [
      "/Users/aprigent/miniconda3/envs/py3_std/lib/python3.7/site-packages/xarray/core/dataset.py:2039: FutureWarning: None value for 'chunks' is deprecated. It will raise an error in the future. Use instead '{}'\n",
      "  category=FutureWarning,\n",
      "/Users/aprigent/miniconda3/envs/py3_std/lib/python3.7/site-packages/xarray/core/dataset.py:2039: FutureWarning: None value for 'chunks' is deprecated. It will raise an error in the future. Use instead '{}'\n",
      "  category=FutureWarning,\n",
      "/Users/aprigent/miniconda3/envs/py3_std/lib/python3.7/site-packages/ipykernel_launcher.py:16: RuntimeWarning: Converting a CFTimeIndex with dates from a non-standard calendar, 'noleap', to a pandas.DatetimeIndex, which uses dates from the standard calendar.  This may lead to subtle errors in operations that depend on the length of time between dates.\n",
      "  app.launch_new_instance()\n",
      "/Users/aprigent/miniconda3/envs/py3_std/lib/python3.7/site-packages/xarray/core/dataset.py:2039: FutureWarning: None value for 'chunks' is deprecated. It will raise an error in the future. Use instead '{}'\n",
      "  category=FutureWarning,\n",
      "/Users/aprigent/miniconda3/envs/py3_std/lib/python3.7/site-packages/ipykernel_launcher.py:16: RuntimeWarning: Converting a CFTimeIndex with dates from a non-standard calendar, 'noleap', to a pandas.DatetimeIndex, which uses dates from the standard calendar.  This may lead to subtle errors in operations that depend on the length of time between dates.\n",
      "  app.launch_new_instance()\n",
      "/Users/aprigent/miniconda3/envs/py3_std/lib/python3.7/site-packages/xarray/core/dataset.py:2039: FutureWarning: None value for 'chunks' is deprecated. It will raise an error in the future. Use instead '{}'\n",
      "  category=FutureWarning,\n",
      "/Users/aprigent/miniconda3/envs/py3_std/lib/python3.7/site-packages/ipykernel_launcher.py:16: RuntimeWarning: Converting a CFTimeIndex with dates from a non-standard calendar, 'noleap', to a pandas.DatetimeIndex, which uses dates from the standard calendar.  This may lead to subtle errors in operations that depend on the length of time between dates.\n",
      "  app.launch_new_instance()\n"
     ]
    },
    {
     "name": "stdout",
     "output_type": "stream",
     "text": [
      "IPSL-CM6A-LR\n",
      "MIROC6\n",
      "MPI-ESM1-2-HR\n",
      "MPI-ESM1-2-LR\n",
      "MRI-ESM2-0\n",
      "NESM3\n"
     ]
    },
    {
     "name": "stderr",
     "output_type": "stream",
     "text": [
      "/Users/aprigent/miniconda3/envs/py3_std/lib/python3.7/site-packages/xarray/core/dataset.py:2039: FutureWarning: None value for 'chunks' is deprecated. It will raise an error in the future. Use instead '{}'\n",
      "  category=FutureWarning,\n",
      "/Users/aprigent/miniconda3/envs/py3_std/lib/python3.7/site-packages/xarray/core/dataset.py:2039: FutureWarning: None value for 'chunks' is deprecated. It will raise an error in the future. Use instead '{}'\n",
      "  category=FutureWarning,\n",
      "/Users/aprigent/miniconda3/envs/py3_std/lib/python3.7/site-packages/xarray/core/dataset.py:2039: FutureWarning: None value for 'chunks' is deprecated. It will raise an error in the future. Use instead '{}'\n",
      "  category=FutureWarning,\n",
      "/Users/aprigent/miniconda3/envs/py3_std/lib/python3.7/site-packages/xarray/core/dataset.py:2039: FutureWarning: None value for 'chunks' is deprecated. It will raise an error in the future. Use instead '{}'\n",
      "  category=FutureWarning,\n",
      "/Users/aprigent/miniconda3/envs/py3_std/lib/python3.7/site-packages/xarray/core/dataset.py:2039: FutureWarning: None value for 'chunks' is deprecated. It will raise an error in the future. Use instead '{}'\n",
      "  category=FutureWarning,\n",
      "/Users/aprigent/miniconda3/envs/py3_std/lib/python3.7/site-packages/xarray/core/dataset.py:2039: FutureWarning: None value for 'chunks' is deprecated. It will raise an error in the future. Use instead '{}'\n",
      "  category=FutureWarning,\n",
      "/Users/aprigent/miniconda3/envs/py3_std/lib/python3.7/site-packages/ipykernel_launcher.py:16: RuntimeWarning: Converting a CFTimeIndex with dates from a non-standard calendar, 'noleap', to a pandas.DatetimeIndex, which uses dates from the standard calendar.  This may lead to subtle errors in operations that depend on the length of time between dates.\n",
      "  app.launch_new_instance()\n",
      "/Users/aprigent/miniconda3/envs/py3_std/lib/python3.7/site-packages/xarray/core/dataset.py:2039: FutureWarning: None value for 'chunks' is deprecated. It will raise an error in the future. Use instead '{}'\n",
      "  category=FutureWarning,\n"
     ]
    }
   ],
   "source": [
    "\n",
    "\n",
    "z20_hist_jja = np.ones((len(model)))\n",
    "\n",
    "\n",
    "for i in range(0,len(model)):\n",
    "\n",
    "\n",
    "\n",
    "    z23 = xr.open_dataset(dir_hist_z23+'z20_Omon_'+model[i]+'_historical_r1i1p1f1_187001-201412_1deg_atl3.nc')\n",
    "    \n",
    "    print(model[i])\n",
    "\n",
    "    try:\n",
    "\n",
    "        z23 = z23.sel(time=slice(datetime(period_str_1, 1, 1), datetime(period_end_1, 12, 31)))\n",
    "    except TypeError:\n",
    "        z23['time'] = z23.indexes['time'].to_datetimeindex()\n",
    "        z23 = z23.sel(time=slice(datetime(period_str_1, 1, 1), datetime(period_end_1, 12, 31))) \n",
    "    z23 = z23.z20.mean(dim='lon').mean(dim='lat').chunk(chunks=None)\n",
    "    z23 = nandetrend(z23)\n",
    "    \n",
    "\n",
    "    z23a_atl3_jja = z23.detrended.sel(time=is_jja(z23['time.month'])).mean(dim='time')\n",
    "    z20_hist_jja[i] = z23a_atl3_jja\n"
   ]
  },
  {
   "cell_type": "markdown",
   "metadata": {},
   "source": [
    "## RCP85"
   ]
  },
  {
   "cell_type": "code",
   "execution_count": 6,
   "metadata": {
    "scrolled": true
   },
   "outputs": [
    {
     "name": "stdout",
     "output_type": "stream",
     "text": [
      "ACCESS-CM2\n",
      "ACCESS-ESM1-5\n",
      "BCC-CSM2-MR\n",
      "CAMS-CSM1-0\n",
      "CanESM5\n"
     ]
    },
    {
     "name": "stderr",
     "output_type": "stream",
     "text": [
      "/Users/aprigent/miniconda3/envs/py3_std/lib/python3.7/site-packages/ipykernel_launcher.py:17: RuntimeWarning: Converting a CFTimeIndex with dates from a non-standard calendar, 'noleap', to a pandas.DatetimeIndex, which uses dates from the standard calendar.  This may lead to subtle errors in operations that depend on the length of time between dates.\n",
      "/Users/aprigent/miniconda3/envs/py3_std/lib/python3.7/site-packages/ipykernel_launcher.py:17: RuntimeWarning: Converting a CFTimeIndex with dates from a non-standard calendar, 'noleap', to a pandas.DatetimeIndex, which uses dates from the standard calendar.  This may lead to subtle errors in operations that depend on the length of time between dates.\n",
      "/Users/aprigent/miniconda3/envs/py3_std/lib/python3.7/site-packages/ipykernel_launcher.py:17: RuntimeWarning: Converting a CFTimeIndex with dates from a non-standard calendar, 'noleap', to a pandas.DatetimeIndex, which uses dates from the standard calendar.  This may lead to subtle errors in operations that depend on the length of time between dates.\n"
     ]
    },
    {
     "name": "stdout",
     "output_type": "stream",
     "text": [
      "EC-Earth3\n",
      "EC-Earth3-Veg\n",
      "GFDL-ESM4\n",
      "INM-CM4-8\n",
      "INM-CM5-0\n"
     ]
    },
    {
     "name": "stderr",
     "output_type": "stream",
     "text": [
      "/Users/aprigent/miniconda3/envs/py3_std/lib/python3.7/site-packages/ipykernel_launcher.py:17: RuntimeWarning: Converting a CFTimeIndex with dates from a non-standard calendar, 'noleap', to a pandas.DatetimeIndex, which uses dates from the standard calendar.  This may lead to subtle errors in operations that depend on the length of time between dates.\n",
      "/Users/aprigent/miniconda3/envs/py3_std/lib/python3.7/site-packages/ipykernel_launcher.py:17: RuntimeWarning: Converting a CFTimeIndex with dates from a non-standard calendar, 'noleap', to a pandas.DatetimeIndex, which uses dates from the standard calendar.  This may lead to subtle errors in operations that depend on the length of time between dates.\n",
      "/Users/aprigent/miniconda3/envs/py3_std/lib/python3.7/site-packages/ipykernel_launcher.py:17: RuntimeWarning: Converting a CFTimeIndex with dates from a non-standard calendar, 'noleap', to a pandas.DatetimeIndex, which uses dates from the standard calendar.  This may lead to subtle errors in operations that depend on the length of time between dates.\n"
     ]
    },
    {
     "name": "stdout",
     "output_type": "stream",
     "text": [
      "IPSL-CM6A-LR\n",
      "MIROC6\n",
      "MPI-ESM1-2-HR\n",
      "MPI-ESM1-2-LR\n",
      "MRI-ESM2-0\n",
      "NESM3\n"
     ]
    },
    {
     "name": "stderr",
     "output_type": "stream",
     "text": [
      "/Users/aprigent/miniconda3/envs/py3_std/lib/python3.7/site-packages/ipykernel_launcher.py:17: RuntimeWarning: Converting a CFTimeIndex with dates from a non-standard calendar, 'noleap', to a pandas.DatetimeIndex, which uses dates from the standard calendar.  This may lead to subtle errors in operations that depend on the length of time between dates.\n"
     ]
    }
   ],
   "source": [
    "\n",
    "\n",
    "z20_ssp5_jja = np.ones((len(model)))\n",
    "\n",
    "\n",
    "for i in range(0,len(model)):\n",
    "   \n",
    "\n",
    "\n",
    "    z23 = xr.open_dataset(dir_rcp8_z23+'z20_'+model[i]+'_ssp585_r1i1p1f1_201501-209912_1deg_atl3.nc')\n",
    "   \n",
    "    print(model[i])\n",
    "    \n",
    "\n",
    "    try:\n",
    "\n",
    "        z23 = z23.sel(time=slice(datetime(period_str_2, 1, 1), datetime(period_end_2, 12, 31)))\n",
    "    except TypeError:\n",
    "        z23['time'] = z23.indexes['time'].to_datetimeindex()\n",
    "        z23 = z23.sel(time=slice(datetime(period_str_2, 1, 1), datetime(period_end_2, 12, 31))) \n",
    "    z23 = z23.z20.mean(dim='lon').mean(dim='lat')\n",
    "    z23 = nandetrend(z23)\n",
    "\n",
    "    z23a_atl3_jja = z23.detrended.sel(time=is_jja(z23['time.month'])).mean(dim='time')\n",
    "    z20_ssp5_jja[i] = z23a_atl3_jja\n"
   ]
  },
  {
   "cell_type": "code",
   "execution_count": 7,
   "metadata": {},
   "outputs": [],
   "source": [
    "z20_cmip6_jja  = xr.Dataset({'period_1': (['product'],z20_hist_jja),\n",
    "                       'period_2': (['product'],z20_ssp5_jja)}\n",
    "                       ,coords={'product':model},\n",
    "                        attrs={'standard_name': 'Z20',\n",
    "                                    'long_name': 'depth of the 20c isotherm depth',\n",
    "                                    'units': 'm',\n",
    "                                    'model': 'CMIP5',\n",
    "                                    'Creation_date':date_time,   \n",
    "                                    'author': 'Arthur Prigent'})\n",
    "\n",
    "\n"
   ]
  },
  {
   "cell_type": "code",
   "execution_count": 9,
   "metadata": {},
   "outputs": [],
   "source": [
    "\n",
    "z20_cmip6_jja.to_netcdf(path_data+'Z20_depth_atl3_CMIP6_jja_dtd.nc')"
   ]
  },
  {
   "cell_type": "code",
   "execution_count": null,
   "metadata": {},
   "outputs": [],
   "source": []
  }
 ],
 "metadata": {
  "kernelspec": {
   "display_name": "Python 3 (ipykernel)",
   "language": "python",
   "name": "python3"
  },
  "language_info": {
   "codemirror_mode": {
    "name": "ipython",
    "version": 3
   },
   "file_extension": ".py",
   "mimetype": "text/x-python",
   "name": "python",
   "nbconvert_exporter": "python",
   "pygments_lexer": "ipython3",
   "version": "3.7.10"
  }
 },
 "nbformat": 4,
 "nbformat_minor": 2
}
